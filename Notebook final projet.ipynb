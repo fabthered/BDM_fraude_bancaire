{
 "cells": [
  {
   "cell_type": "markdown",
   "metadata": {},
   "source": [
    "# PROJET SISE 2020-2021 BIG DATA MINING"
   ]
  },
  {
   "cell_type": "markdown",
   "metadata": {},
   "source": [
    "## Classification dans un contexte déséquilibré - une application à la fraude bancaire"
   ]
  },
  {
   "cell_type": "markdown",
   "metadata": {},
   "source": [
    "##### Equipe projet : Mathias Da Costa Meira, Fabrice Petitfrere"
   ]
  },
  {
   "cell_type": "markdown",
   "metadata": {},
   "source": [
    "***"
   ]
  },
  {
   "cell_type": "markdown",
   "metadata": {},
   "source": [
    "## 1. ANALYSE PRELIMINAIRE"
   ]
  },
  {
   "cell_type": "markdown",
   "metadata": {},
   "source": [
    "### Chargement des données"
   ]
  },
  {
   "cell_type": "code",
   "execution_count": 1,
   "metadata": {},
   "outputs": [
    {
     "data": {
      "text/html": [
       "<div>\n",
       "<style scoped>\n",
       "    .dataframe tbody tr th:only-of-type {\n",
       "        vertical-align: middle;\n",
       "    }\n",
       "\n",
       "    .dataframe tbody tr th {\n",
       "        vertical-align: top;\n",
       "    }\n",
       "\n",
       "    .dataframe thead th {\n",
       "        text-align: right;\n",
       "    }\n",
       "</style>\n",
       "<table border=\"1\" class=\"dataframe\">\n",
       "  <thead>\n",
       "    <tr style=\"text-align: right;\">\n",
       "      <th></th>\n",
       "      <th>ZIBZIN</th>\n",
       "      <th>IDAvisAutorisAtionCheque</th>\n",
       "      <th>MontAnt</th>\n",
       "      <th>DAteTrAnsAction</th>\n",
       "      <th>CodeDecision</th>\n",
       "      <th>VerifiAnceCPT1</th>\n",
       "      <th>VerifiAnceCPT2</th>\n",
       "      <th>VerifiAnceCPT3</th>\n",
       "      <th>D2CB</th>\n",
       "      <th>ScoringFP1</th>\n",
       "      <th>...</th>\n",
       "      <th>TAuxImpNB_CPM</th>\n",
       "      <th>EcArtNumCheq</th>\n",
       "      <th>NbrMAgAsin3J</th>\n",
       "      <th>DiffDAteTr1</th>\n",
       "      <th>DiffDAteTr2</th>\n",
       "      <th>DiffDAteTr3</th>\n",
       "      <th>CA3TRetMtt</th>\n",
       "      <th>CA3TR</th>\n",
       "      <th>Heure</th>\n",
       "      <th>FlAgImpAye</th>\n",
       "    </tr>\n",
       "  </thead>\n",
       "  <tbody>\n",
       "    <tr>\n",
       "      <th>0</th>\n",
       "      <td>A034010041908012010710730</td>\n",
       "      <td>71051532</td>\n",
       "      <td>40.17</td>\n",
       "      <td>2016-03-21 07:47:38</td>\n",
       "      <td>0</td>\n",
       "      <td>1</td>\n",
       "      <td>1</td>\n",
       "      <td>1</td>\n",
       "      <td>535</td>\n",
       "      <td>0.000000</td>\n",
       "      <td>...</td>\n",
       "      <td>21.834061</td>\n",
       "      <td>0</td>\n",
       "      <td>1</td>\n",
       "      <td>4.0</td>\n",
       "      <td>4.0</td>\n",
       "      <td>4.0</td>\n",
       "      <td>40.17</td>\n",
       "      <td>0.0</td>\n",
       "      <td>28058</td>\n",
       "      <td>0</td>\n",
       "    </tr>\n",
       "    <tr>\n",
       "      <th>1</th>\n",
       "      <td>A035010041908006493331734</td>\n",
       "      <td>71051533</td>\n",
       "      <td>20.00</td>\n",
       "      <td>2016-03-21 08:04:57</td>\n",
       "      <td>0</td>\n",
       "      <td>0</td>\n",
       "      <td>0</td>\n",
       "      <td>0</td>\n",
       "      <td>358</td>\n",
       "      <td>0.000000</td>\n",
       "      <td>...</td>\n",
       "      <td>12.586532</td>\n",
       "      <td>0</td>\n",
       "      <td>1</td>\n",
       "      <td>4.0</td>\n",
       "      <td>4.0</td>\n",
       "      <td>4.0</td>\n",
       "      <td>20.00</td>\n",
       "      <td>0.0</td>\n",
       "      <td>29097</td>\n",
       "      <td>0</td>\n",
       "    </tr>\n",
       "    <tr>\n",
       "      <th>2</th>\n",
       "      <td>A013010003908005150136747</td>\n",
       "      <td>71051534</td>\n",
       "      <td>35.00</td>\n",
       "      <td>2016-03-21 08:06:45</td>\n",
       "      <td>0</td>\n",
       "      <td>0</td>\n",
       "      <td>0</td>\n",
       "      <td>0</td>\n",
       "      <td>199</td>\n",
       "      <td>0.000000</td>\n",
       "      <td>...</td>\n",
       "      <td>39.274924</td>\n",
       "      <td>0</td>\n",
       "      <td>1</td>\n",
       "      <td>4.0</td>\n",
       "      <td>4.0</td>\n",
       "      <td>4.0</td>\n",
       "      <td>35.00</td>\n",
       "      <td>0.0</td>\n",
       "      <td>29205</td>\n",
       "      <td>0</td>\n",
       "    </tr>\n",
       "    <tr>\n",
       "      <th>3</th>\n",
       "      <td>A013010041908025639221029</td>\n",
       "      <td>71051536</td>\n",
       "      <td>20.00</td>\n",
       "      <td>2016-03-21 08:11:38</td>\n",
       "      <td>0</td>\n",
       "      <td>0</td>\n",
       "      <td>0</td>\n",
       "      <td>0</td>\n",
       "      <td>38</td>\n",
       "      <td>0.000000</td>\n",
       "      <td>...</td>\n",
       "      <td>39.274924</td>\n",
       "      <td>0</td>\n",
       "      <td>1</td>\n",
       "      <td>4.0</td>\n",
       "      <td>4.0</td>\n",
       "      <td>4.0</td>\n",
       "      <td>20.00</td>\n",
       "      <td>0.0</td>\n",
       "      <td>29498</td>\n",
       "      <td>0</td>\n",
       "    </tr>\n",
       "    <tr>\n",
       "      <th>4</th>\n",
       "      <td>A013010003908005556100283</td>\n",
       "      <td>71051538</td>\n",
       "      <td>20.00</td>\n",
       "      <td>2016-03-21 08:17:11</td>\n",
       "      <td>0</td>\n",
       "      <td>0</td>\n",
       "      <td>0</td>\n",
       "      <td>0</td>\n",
       "      <td>26</td>\n",
       "      <td>0.000000</td>\n",
       "      <td>...</td>\n",
       "      <td>39.274924</td>\n",
       "      <td>0</td>\n",
       "      <td>1</td>\n",
       "      <td>4.0</td>\n",
       "      <td>4.0</td>\n",
       "      <td>4.0</td>\n",
       "      <td>20.00</td>\n",
       "      <td>0.0</td>\n",
       "      <td>29831</td>\n",
       "      <td>0</td>\n",
       "    </tr>\n",
       "    <tr>\n",
       "      <th>5</th>\n",
       "      <td>A007010278908891620264901</td>\n",
       "      <td>71051539</td>\n",
       "      <td>35.09</td>\n",
       "      <td>2016-03-21 08:17:26</td>\n",
       "      <td>0</td>\n",
       "      <td>0</td>\n",
       "      <td>0</td>\n",
       "      <td>0</td>\n",
       "      <td>459</td>\n",
       "      <td>0.000000</td>\n",
       "      <td>...</td>\n",
       "      <td>35.523979</td>\n",
       "      <td>0</td>\n",
       "      <td>1</td>\n",
       "      <td>4.0</td>\n",
       "      <td>4.0</td>\n",
       "      <td>4.0</td>\n",
       "      <td>35.09</td>\n",
       "      <td>0.0</td>\n",
       "      <td>29846</td>\n",
       "      <td>0</td>\n",
       "    </tr>\n",
       "    <tr>\n",
       "      <th>6</th>\n",
       "      <td>A056010003908116850002378</td>\n",
       "      <td>71051541</td>\n",
       "      <td>60.00</td>\n",
       "      <td>2016-03-21 08:19:56</td>\n",
       "      <td>0</td>\n",
       "      <td>0</td>\n",
       "      <td>0</td>\n",
       "      <td>0</td>\n",
       "      <td>500</td>\n",
       "      <td>0.000000</td>\n",
       "      <td>...</td>\n",
       "      <td>12.586532</td>\n",
       "      <td>0</td>\n",
       "      <td>1</td>\n",
       "      <td>4.0</td>\n",
       "      <td>4.0</td>\n",
       "      <td>4.0</td>\n",
       "      <td>60.00</td>\n",
       "      <td>0.0</td>\n",
       "      <td>29996</td>\n",
       "      <td>0</td>\n",
       "    </tr>\n",
       "    <tr>\n",
       "      <th>7</th>\n",
       "      <td>A034013506908085106167163</td>\n",
       "      <td>71051542</td>\n",
       "      <td>120.00</td>\n",
       "      <td>2016-03-21 08:20:42</td>\n",
       "      <td>0</td>\n",
       "      <td>1</td>\n",
       "      <td>1</td>\n",
       "      <td>1</td>\n",
       "      <td>389</td>\n",
       "      <td>0.308483</td>\n",
       "      <td>...</td>\n",
       "      <td>21.834061</td>\n",
       "      <td>0</td>\n",
       "      <td>1</td>\n",
       "      <td>4.0</td>\n",
       "      <td>4.0</td>\n",
       "      <td>4.0</td>\n",
       "      <td>120.00</td>\n",
       "      <td>0.0</td>\n",
       "      <td>30042</td>\n",
       "      <td>0</td>\n",
       "    </tr>\n",
       "    <tr>\n",
       "      <th>8</th>\n",
       "      <td>A056015589908090385895930</td>\n",
       "      <td>71051544</td>\n",
       "      <td>59.25</td>\n",
       "      <td>2016-03-21 08:21:04</td>\n",
       "      <td>0</td>\n",
       "      <td>1</td>\n",
       "      <td>1</td>\n",
       "      <td>1</td>\n",
       "      <td>538</td>\n",
       "      <td>0.000000</td>\n",
       "      <td>...</td>\n",
       "      <td>12.586532</td>\n",
       "      <td>0</td>\n",
       "      <td>1</td>\n",
       "      <td>4.0</td>\n",
       "      <td>4.0</td>\n",
       "      <td>4.0</td>\n",
       "      <td>59.25</td>\n",
       "      <td>0.0</td>\n",
       "      <td>30064</td>\n",
       "      <td>0</td>\n",
       "    </tr>\n",
       "    <tr>\n",
       "      <th>9</th>\n",
       "      <td>A056015589908093500453310</td>\n",
       "      <td>71051548</td>\n",
       "      <td>17.00</td>\n",
       "      <td>2016-03-21 08:22:56</td>\n",
       "      <td>0</td>\n",
       "      <td>0</td>\n",
       "      <td>0</td>\n",
       "      <td>0</td>\n",
       "      <td>13</td>\n",
       "      <td>0.000000</td>\n",
       "      <td>...</td>\n",
       "      <td>12.586532</td>\n",
       "      <td>0</td>\n",
       "      <td>1</td>\n",
       "      <td>4.0</td>\n",
       "      <td>4.0</td>\n",
       "      <td>4.0</td>\n",
       "      <td>17.00</td>\n",
       "      <td>0.0</td>\n",
       "      <td>30176</td>\n",
       "      <td>0</td>\n",
       "    </tr>\n",
       "  </tbody>\n",
       "</table>\n",
       "<p>10 rows × 23 columns</p>\n",
       "</div>"
      ],
      "text/plain": [
       "                      ZIBZIN  IDAvisAutorisAtionCheque  MontAnt  \\\n",
       "0  A034010041908012010710730                  71051532    40.17   \n",
       "1  A035010041908006493331734                  71051533    20.00   \n",
       "2  A013010003908005150136747                  71051534    35.00   \n",
       "3  A013010041908025639221029                  71051536    20.00   \n",
       "4  A013010003908005556100283                  71051538    20.00   \n",
       "5  A007010278908891620264901                  71051539    35.09   \n",
       "6  A056010003908116850002378                  71051541    60.00   \n",
       "7  A034013506908085106167163                  71051542   120.00   \n",
       "8  A056015589908090385895930                  71051544    59.25   \n",
       "9  A056015589908093500453310                  71051548    17.00   \n",
       "\n",
       "       DAteTrAnsAction  CodeDecision  VerifiAnceCPT1  VerifiAnceCPT2  \\\n",
       "0  2016-03-21 07:47:38             0               1               1   \n",
       "1  2016-03-21 08:04:57             0               0               0   \n",
       "2  2016-03-21 08:06:45             0               0               0   \n",
       "3  2016-03-21 08:11:38             0               0               0   \n",
       "4  2016-03-21 08:17:11             0               0               0   \n",
       "5  2016-03-21 08:17:26             0               0               0   \n",
       "6  2016-03-21 08:19:56             0               0               0   \n",
       "7  2016-03-21 08:20:42             0               1               1   \n",
       "8  2016-03-21 08:21:04             0               1               1   \n",
       "9  2016-03-21 08:22:56             0               0               0   \n",
       "\n",
       "   VerifiAnceCPT3  D2CB  ScoringFP1  ...  TAuxImpNB_CPM  EcArtNumCheq  \\\n",
       "0               1   535    0.000000  ...      21.834061             0   \n",
       "1               0   358    0.000000  ...      12.586532             0   \n",
       "2               0   199    0.000000  ...      39.274924             0   \n",
       "3               0    38    0.000000  ...      39.274924             0   \n",
       "4               0    26    0.000000  ...      39.274924             0   \n",
       "5               0   459    0.000000  ...      35.523979             0   \n",
       "6               0   500    0.000000  ...      12.586532             0   \n",
       "7               1   389    0.308483  ...      21.834061             0   \n",
       "8               1   538    0.000000  ...      12.586532             0   \n",
       "9               0    13    0.000000  ...      12.586532             0   \n",
       "\n",
       "   NbrMAgAsin3J  DiffDAteTr1  DiffDAteTr2  DiffDAteTr3  CA3TRetMtt  CA3TR  \\\n",
       "0             1          4.0          4.0          4.0       40.17    0.0   \n",
       "1             1          4.0          4.0          4.0       20.00    0.0   \n",
       "2             1          4.0          4.0          4.0       35.00    0.0   \n",
       "3             1          4.0          4.0          4.0       20.00    0.0   \n",
       "4             1          4.0          4.0          4.0       20.00    0.0   \n",
       "5             1          4.0          4.0          4.0       35.09    0.0   \n",
       "6             1          4.0          4.0          4.0       60.00    0.0   \n",
       "7             1          4.0          4.0          4.0      120.00    0.0   \n",
       "8             1          4.0          4.0          4.0       59.25    0.0   \n",
       "9             1          4.0          4.0          4.0       17.00    0.0   \n",
       "\n",
       "   Heure  FlAgImpAye  \n",
       "0  28058           0  \n",
       "1  29097           0  \n",
       "2  29205           0  \n",
       "3  29498           0  \n",
       "4  29831           0  \n",
       "5  29846           0  \n",
       "6  29996           0  \n",
       "7  30042           0  \n",
       "8  30064           0  \n",
       "9  30176           0  \n",
       "\n",
       "[10 rows x 23 columns]"
      ]
     },
     "execution_count": 1,
     "metadata": {},
     "output_type": "execute_result"
    }
   ],
   "source": [
    "import pandas as pd\n",
    "df = pd.read_csv('S:/08 - Fouille de données massives/Projet/dataproject.txt', sep=\";\", decimal=',', encoding='UTF-8')\n",
    "#df = pd.read_csv('E:/M2 - SISE/Detection fraude cheque/dataproject.txt', sep=';',decimal=',',encoding='UTF-8')\n",
    "df.head(10)"
   ]
  },
  {
   "cell_type": "markdown",
   "metadata": {},
   "source": [
    "### Inspection initiale"
   ]
  },
  {
   "cell_type": "code",
   "execution_count": 2,
   "metadata": {},
   "outputs": [
    {
     "name": "stdout",
     "output_type": "stream",
     "text": [
      "ZIBZIN\n",
      "False    2231369\n",
      "Name: ZIBZIN, dtype: int64\n",
      "\n",
      "IDAvisAutorisAtionCheque\n",
      "False    2231369\n",
      "Name: IDAvisAutorisAtionCheque, dtype: int64\n",
      "\n",
      "MontAnt\n",
      "False    2231369\n",
      "Name: MontAnt, dtype: int64\n",
      "\n",
      "DAteTrAnsAction\n",
      "False    2231369\n",
      "Name: DAteTrAnsAction, dtype: int64\n",
      "\n",
      "CodeDecision\n",
      "False    2231369\n",
      "Name: CodeDecision, dtype: int64\n",
      "\n",
      "VerifiAnceCPT1\n",
      "False    2231369\n",
      "Name: VerifiAnceCPT1, dtype: int64\n",
      "\n",
      "VerifiAnceCPT2\n",
      "False    2231369\n",
      "Name: VerifiAnceCPT2, dtype: int64\n",
      "\n",
      "VerifiAnceCPT3\n",
      "False    2231369\n",
      "Name: VerifiAnceCPT3, dtype: int64\n",
      "\n",
      "D2CB\n",
      "False    2231369\n",
      "Name: D2CB, dtype: int64\n",
      "\n",
      "ScoringFP1\n",
      "False    2231369\n",
      "Name: ScoringFP1, dtype: int64\n",
      "\n",
      "ScoringFP2\n",
      "False    2231369\n",
      "Name: ScoringFP2, dtype: int64\n",
      "\n",
      "ScoringFP3\n",
      "False    2231369\n",
      "Name: ScoringFP3, dtype: int64\n",
      "\n",
      "TAuxImpNb_RB\n",
      "False    2231369\n",
      "Name: TAuxImpNb_RB, dtype: int64\n",
      "\n",
      "TAuxImpNB_CPM\n",
      "False    2231369\n",
      "Name: TAuxImpNB_CPM, dtype: int64\n",
      "\n",
      "EcArtNumCheq\n",
      "False    2231369\n",
      "Name: EcArtNumCheq, dtype: int64\n",
      "\n",
      "NbrMAgAsin3J\n",
      "False    2231369\n",
      "Name: NbrMAgAsin3J, dtype: int64\n",
      "\n",
      "DiffDAteTr1\n",
      "False    2231369\n",
      "Name: DiffDAteTr1, dtype: int64\n",
      "\n",
      "DiffDAteTr2\n",
      "False    2231369\n",
      "Name: DiffDAteTr2, dtype: int64\n",
      "\n",
      "DiffDAteTr3\n",
      "False    2231369\n",
      "Name: DiffDAteTr3, dtype: int64\n",
      "\n",
      "CA3TRetMtt\n",
      "False    2231369\n",
      "Name: CA3TRetMtt, dtype: int64\n",
      "\n",
      "CA3TR\n",
      "False    2231369\n",
      "Name: CA3TR, dtype: int64\n",
      "\n",
      "Heure\n",
      "False    2231369\n",
      "Name: Heure, dtype: int64\n",
      "\n",
      "FlAgImpAye\n",
      "False    2231369\n",
      "Name: FlAgImpAye, dtype: int64\n",
      "\n"
     ]
    }
   ],
   "source": [
    "missing_data = df.isnull()\n",
    "\n",
    "for column in missing_data.columns.values.tolist():\n",
    "    print(column)\n",
    "    print (missing_data[column].value_counts())\n",
    "    print(\"\")    "
   ]
  },
  {
   "cell_type": "markdown",
   "metadata": {},
   "source": [
    "Il n'y a aucune valeur manquante dans le jeu de données !"
   ]
  },
  {
   "cell_type": "code",
   "execution_count": 3,
   "metadata": {},
   "outputs": [
    {
     "data": {
      "text/plain": [
       "ZIBZIN                       object\n",
       "IDAvisAutorisAtionCheque      int64\n",
       "MontAnt                     float64\n",
       "DAteTrAnsAction              object\n",
       "CodeDecision                  int64\n",
       "VerifiAnceCPT1                int64\n",
       "VerifiAnceCPT2                int64\n",
       "VerifiAnceCPT3                int64\n",
       "D2CB                          int64\n",
       "ScoringFP1                  float64\n",
       "ScoringFP2                  float64\n",
       "ScoringFP3                  float64\n",
       "TAuxImpNb_RB                float64\n",
       "TAuxImpNB_CPM               float64\n",
       "EcArtNumCheq                  int64\n",
       "NbrMAgAsin3J                  int64\n",
       "DiffDAteTr1                 float64\n",
       "DiffDAteTr2                 float64\n",
       "DiffDAteTr3                 float64\n",
       "CA3TRetMtt                  float64\n",
       "CA3TR                       float64\n",
       "Heure                         int64\n",
       "FlAgImpAye                    int64\n",
       "dtype: object"
      ]
     },
     "execution_count": 3,
     "metadata": {},
     "output_type": "execute_result"
    }
   ],
   "source": [
    "# Types de données\n",
    "df.dtypes"
   ]
  },
  {
   "cell_type": "markdown",
   "metadata": {},
   "source": [
    "### Analyse descriptive"
   ]
  },
  {
   "cell_type": "code",
   "execution_count": 4,
   "metadata": {},
   "outputs": [
    {
     "data": {
      "text/plain": [
       "(2231369, 23)"
      ]
     },
     "execution_count": 4,
     "metadata": {},
     "output_type": "execute_result"
    }
   ],
   "source": [
    "# Nombre total de transactions\n",
    "df.shape"
   ]
  },
  {
   "cell_type": "code",
   "execution_count": 5,
   "metadata": {},
   "outputs": [
    {
     "data": {
      "text/html": [
       "<div>\n",
       "<style scoped>\n",
       "    .dataframe tbody tr th:only-of-type {\n",
       "        vertical-align: middle;\n",
       "    }\n",
       "\n",
       "    .dataframe tbody tr th {\n",
       "        vertical-align: top;\n",
       "    }\n",
       "\n",
       "    .dataframe thead th {\n",
       "        text-align: right;\n",
       "    }\n",
       "</style>\n",
       "<table border=\"1\" class=\"dataframe\">\n",
       "  <thead>\n",
       "    <tr style=\"text-align: right;\">\n",
       "      <th></th>\n",
       "      <th>IDAvisAutorisAtionCheque</th>\n",
       "      <th>MontAnt</th>\n",
       "      <th>CodeDecision</th>\n",
       "      <th>VerifiAnceCPT1</th>\n",
       "      <th>VerifiAnceCPT2</th>\n",
       "      <th>VerifiAnceCPT3</th>\n",
       "      <th>D2CB</th>\n",
       "      <th>ScoringFP1</th>\n",
       "      <th>ScoringFP2</th>\n",
       "      <th>ScoringFP3</th>\n",
       "      <th>...</th>\n",
       "      <th>TAuxImpNB_CPM</th>\n",
       "      <th>EcArtNumCheq</th>\n",
       "      <th>NbrMAgAsin3J</th>\n",
       "      <th>DiffDAteTr1</th>\n",
       "      <th>DiffDAteTr2</th>\n",
       "      <th>DiffDAteTr3</th>\n",
       "      <th>CA3TRetMtt</th>\n",
       "      <th>CA3TR</th>\n",
       "      <th>Heure</th>\n",
       "      <th>FlAgImpAye</th>\n",
       "    </tr>\n",
       "  </thead>\n",
       "  <tbody>\n",
       "    <tr>\n",
       "      <th>count</th>\n",
       "      <td>2.231369e+06</td>\n",
       "      <td>2.231369e+06</td>\n",
       "      <td>2.231369e+06</td>\n",
       "      <td>2.231369e+06</td>\n",
       "      <td>2.231369e+06</td>\n",
       "      <td>2.231369e+06</td>\n",
       "      <td>2.231369e+06</td>\n",
       "      <td>2.231369e+06</td>\n",
       "      <td>2.231369e+06</td>\n",
       "      <td>2.231369e+06</td>\n",
       "      <td>...</td>\n",
       "      <td>2.231369e+06</td>\n",
       "      <td>2.231369e+06</td>\n",
       "      <td>2.231369e+06</td>\n",
       "      <td>2.231369e+06</td>\n",
       "      <td>2.231369e+06</td>\n",
       "      <td>2.231369e+06</td>\n",
       "      <td>2.231369e+06</td>\n",
       "      <td>2.231369e+06</td>\n",
       "      <td>2.231369e+06</td>\n",
       "      <td>2.231369e+06</td>\n",
       "    </tr>\n",
       "    <tr>\n",
       "      <th>mean</th>\n",
       "      <td>7.356762e+07</td>\n",
       "      <td>5.991771e+01</td>\n",
       "      <td>1.288043e-02</td>\n",
       "      <td>3.991402e-01</td>\n",
       "      <td>4.296752e-01</td>\n",
       "      <td>4.816980e-01</td>\n",
       "      <td>2.477938e+02</td>\n",
       "      <td>3.100542e+00</td>\n",
       "      <td>6.882686e-01</td>\n",
       "      <td>1.769416e-01</td>\n",
       "      <td>...</td>\n",
       "      <td>3.256122e+01</td>\n",
       "      <td>6.724334e+03</td>\n",
       "      <td>1.034200e+00</td>\n",
       "      <td>3.947808e+00</td>\n",
       "      <td>4.234163e+00</td>\n",
       "      <td>4.266234e+00</td>\n",
       "      <td>6.683475e+01</td>\n",
       "      <td>6.917041e+00</td>\n",
       "      <td>5.347306e+04</td>\n",
       "      <td>2.804108e-03</td>\n",
       "    </tr>\n",
       "    <tr>\n",
       "      <th>std</th>\n",
       "      <td>1.458268e+06</td>\n",
       "      <td>7.980922e+01</td>\n",
       "      <td>1.682062e-01</td>\n",
       "      <td>5.250070e-01</td>\n",
       "      <td>6.056457e-01</td>\n",
       "      <td>7.339127e-01</td>\n",
       "      <td>2.131088e+02</td>\n",
       "      <td>3.047480e+01</td>\n",
       "      <td>9.336748e+00</td>\n",
       "      <td>5.662696e-01</td>\n",
       "      <td>...</td>\n",
       "      <td>3.475789e+01</td>\n",
       "      <td>1.742520e+05</td>\n",
       "      <td>1.862585e-01</td>\n",
       "      <td>1.078915e+00</td>\n",
       "      <td>5.510923e-01</td>\n",
       "      <td>4.643674e-01</td>\n",
       "      <td>8.929606e+01</td>\n",
       "      <td>3.550385e+01</td>\n",
       "      <td>1.200173e+04</td>\n",
       "      <td>5.287955e-02</td>\n",
       "    </tr>\n",
       "    <tr>\n",
       "      <th>min</th>\n",
       "      <td>7.105153e+07</td>\n",
       "      <td>1.000000e-02</td>\n",
       "      <td>0.000000e+00</td>\n",
       "      <td>0.000000e+00</td>\n",
       "      <td>0.000000e+00</td>\n",
       "      <td>0.000000e+00</td>\n",
       "      <td>1.000000e+00</td>\n",
       "      <td>0.000000e+00</td>\n",
       "      <td>-4.969986e+01</td>\n",
       "      <td>0.000000e+00</td>\n",
       "      <td>...</td>\n",
       "      <td>0.000000e+00</td>\n",
       "      <td>0.000000e+00</td>\n",
       "      <td>1.000000e+00</td>\n",
       "      <td>0.000000e+00</td>\n",
       "      <td>4.745370e-04</td>\n",
       "      <td>1.365741e-03</td>\n",
       "      <td>1.000000e-02</td>\n",
       "      <td>0.000000e+00</td>\n",
       "      <td>1.336000e+03</td>\n",
       "      <td>0.000000e+00</td>\n",
       "    </tr>\n",
       "    <tr>\n",
       "      <th>25%</th>\n",
       "      <td>7.232987e+07</td>\n",
       "      <td>2.500000e+01</td>\n",
       "      <td>0.000000e+00</td>\n",
       "      <td>0.000000e+00</td>\n",
       "      <td>0.000000e+00</td>\n",
       "      <td>0.000000e+00</td>\n",
       "      <td>1.000000e+00</td>\n",
       "      <td>5.874265e-03</td>\n",
       "      <td>-2.869431e+00</td>\n",
       "      <td>1.179973e-03</td>\n",
       "      <td>...</td>\n",
       "      <td>1.390821e+01</td>\n",
       "      <td>0.000000e+00</td>\n",
       "      <td>1.000000e+00</td>\n",
       "      <td>4.000000e+00</td>\n",
       "      <td>4.000000e+00</td>\n",
       "      <td>4.000000e+00</td>\n",
       "      <td>2.792000e+01</td>\n",
       "      <td>0.000000e+00</td>\n",
       "      <td>4.248500e+04</td>\n",
       "      <td>0.000000e+00</td>\n",
       "    </tr>\n",
       "    <tr>\n",
       "      <th>50%</th>\n",
       "      <td>7.353719e+07</td>\n",
       "      <td>4.235000e+01</td>\n",
       "      <td>0.000000e+00</td>\n",
       "      <td>0.000000e+00</td>\n",
       "      <td>0.000000e+00</td>\n",
       "      <td>0.000000e+00</td>\n",
       "      <td>2.430000e+02</td>\n",
       "      <td>1.543502e-02</td>\n",
       "      <td>0.000000e+00</td>\n",
       "      <td>2.131271e-03</td>\n",
       "      <td>...</td>\n",
       "      <td>2.526529e+01</td>\n",
       "      <td>0.000000e+00</td>\n",
       "      <td>1.000000e+00</td>\n",
       "      <td>4.000000e+00</td>\n",
       "      <td>4.000000e+00</td>\n",
       "      <td>4.000000e+00</td>\n",
       "      <td>4.732000e+01</td>\n",
       "      <td>0.000000e+00</td>\n",
       "      <td>5.488200e+04</td>\n",
       "      <td>0.000000e+00</td>\n",
       "    </tr>\n",
       "    <tr>\n",
       "      <th>75%</th>\n",
       "      <td>7.480167e+07</td>\n",
       "      <td>7.205000e+01</td>\n",
       "      <td>0.000000e+00</td>\n",
       "      <td>1.000000e+00</td>\n",
       "      <td>1.000000e+00</td>\n",
       "      <td>1.000000e+00</td>\n",
       "      <td>4.680000e+02</td>\n",
       "      <td>1.370299e-01</td>\n",
       "      <td>5.289664e+00</td>\n",
       "      <td>1.533859e-02</td>\n",
       "      <td>...</td>\n",
       "      <td>3.927492e+01</td>\n",
       "      <td>0.000000e+00</td>\n",
       "      <td>1.000000e+00</td>\n",
       "      <td>5.000000e+00</td>\n",
       "      <td>5.000000e+00</td>\n",
       "      <td>5.000000e+00</td>\n",
       "      <td>8.130000e+01</td>\n",
       "      <td>0.000000e+00</td>\n",
       "      <td>6.390700e+04</td>\n",
       "      <td>0.000000e+00</td>\n",
       "    </tr>\n",
       "    <tr>\n",
       "      <th>max</th>\n",
       "      <td>7.619241e+07</td>\n",
       "      <td>1.698534e+04</td>\n",
       "      <td>3.000000e+00</td>\n",
       "      <td>1.500000e+01</td>\n",
       "      <td>4.000000e+01</td>\n",
       "      <td>4.000000e+01</td>\n",
       "      <td>5.510000e+02</td>\n",
       "      <td>1.680000e+04</td>\n",
       "      <td>4.702998e+01</td>\n",
       "      <td>1.839140e+01</td>\n",
       "      <td>...</td>\n",
       "      <td>7.142857e+02</td>\n",
       "      <td>9.993474e+06</td>\n",
       "      <td>1.000000e+01</td>\n",
       "      <td>5.000000e+00</td>\n",
       "      <td>5.000000e+00</td>\n",
       "      <td>5.000000e+00</td>\n",
       "      <td>1.698534e+04</td>\n",
       "      <td>1.060000e+04</td>\n",
       "      <td>8.256400e+04</td>\n",
       "      <td>1.000000e+00</td>\n",
       "    </tr>\n",
       "  </tbody>\n",
       "</table>\n",
       "<p>8 rows × 21 columns</p>\n",
       "</div>"
      ],
      "text/plain": [
       "       IDAvisAutorisAtionCheque       MontAnt  CodeDecision  VerifiAnceCPT1  \\\n",
       "count              2.231369e+06  2.231369e+06  2.231369e+06    2.231369e+06   \n",
       "mean               7.356762e+07  5.991771e+01  1.288043e-02    3.991402e-01   \n",
       "std                1.458268e+06  7.980922e+01  1.682062e-01    5.250070e-01   \n",
       "min                7.105153e+07  1.000000e-02  0.000000e+00    0.000000e+00   \n",
       "25%                7.232987e+07  2.500000e+01  0.000000e+00    0.000000e+00   \n",
       "50%                7.353719e+07  4.235000e+01  0.000000e+00    0.000000e+00   \n",
       "75%                7.480167e+07  7.205000e+01  0.000000e+00    1.000000e+00   \n",
       "max                7.619241e+07  1.698534e+04  3.000000e+00    1.500000e+01   \n",
       "\n",
       "       VerifiAnceCPT2  VerifiAnceCPT3          D2CB    ScoringFP1  \\\n",
       "count    2.231369e+06    2.231369e+06  2.231369e+06  2.231369e+06   \n",
       "mean     4.296752e-01    4.816980e-01  2.477938e+02  3.100542e+00   \n",
       "std      6.056457e-01    7.339127e-01  2.131088e+02  3.047480e+01   \n",
       "min      0.000000e+00    0.000000e+00  1.000000e+00  0.000000e+00   \n",
       "25%      0.000000e+00    0.000000e+00  1.000000e+00  5.874265e-03   \n",
       "50%      0.000000e+00    0.000000e+00  2.430000e+02  1.543502e-02   \n",
       "75%      1.000000e+00    1.000000e+00  4.680000e+02  1.370299e-01   \n",
       "max      4.000000e+01    4.000000e+01  5.510000e+02  1.680000e+04   \n",
       "\n",
       "         ScoringFP2    ScoringFP3  ...  TAuxImpNB_CPM  EcArtNumCheq  \\\n",
       "count  2.231369e+06  2.231369e+06  ...   2.231369e+06  2.231369e+06   \n",
       "mean   6.882686e-01  1.769416e-01  ...   3.256122e+01  6.724334e+03   \n",
       "std    9.336748e+00  5.662696e-01  ...   3.475789e+01  1.742520e+05   \n",
       "min   -4.969986e+01  0.000000e+00  ...   0.000000e+00  0.000000e+00   \n",
       "25%   -2.869431e+00  1.179973e-03  ...   1.390821e+01  0.000000e+00   \n",
       "50%    0.000000e+00  2.131271e-03  ...   2.526529e+01  0.000000e+00   \n",
       "75%    5.289664e+00  1.533859e-02  ...   3.927492e+01  0.000000e+00   \n",
       "max    4.702998e+01  1.839140e+01  ...   7.142857e+02  9.993474e+06   \n",
       "\n",
       "       NbrMAgAsin3J   DiffDAteTr1   DiffDAteTr2   DiffDAteTr3    CA3TRetMtt  \\\n",
       "count  2.231369e+06  2.231369e+06  2.231369e+06  2.231369e+06  2.231369e+06   \n",
       "mean   1.034200e+00  3.947808e+00  4.234163e+00  4.266234e+00  6.683475e+01   \n",
       "std    1.862585e-01  1.078915e+00  5.510923e-01  4.643674e-01  8.929606e+01   \n",
       "min    1.000000e+00  0.000000e+00  4.745370e-04  1.365741e-03  1.000000e-02   \n",
       "25%    1.000000e+00  4.000000e+00  4.000000e+00  4.000000e+00  2.792000e+01   \n",
       "50%    1.000000e+00  4.000000e+00  4.000000e+00  4.000000e+00  4.732000e+01   \n",
       "75%    1.000000e+00  5.000000e+00  5.000000e+00  5.000000e+00  8.130000e+01   \n",
       "max    1.000000e+01  5.000000e+00  5.000000e+00  5.000000e+00  1.698534e+04   \n",
       "\n",
       "              CA3TR         Heure    FlAgImpAye  \n",
       "count  2.231369e+06  2.231369e+06  2.231369e+06  \n",
       "mean   6.917041e+00  5.347306e+04  2.804108e-03  \n",
       "std    3.550385e+01  1.200173e+04  5.287955e-02  \n",
       "min    0.000000e+00  1.336000e+03  0.000000e+00  \n",
       "25%    0.000000e+00  4.248500e+04  0.000000e+00  \n",
       "50%    0.000000e+00  5.488200e+04  0.000000e+00  \n",
       "75%    0.000000e+00  6.390700e+04  0.000000e+00  \n",
       "max    1.060000e+04  8.256400e+04  1.000000e+00  \n",
       "\n",
       "[8 rows x 21 columns]"
      ]
     },
     "execution_count": 5,
     "metadata": {},
     "output_type": "execute_result"
    }
   ],
   "source": [
    "# Statistiques générales\n",
    "df.describe()"
   ]
  },
  {
   "cell_type": "markdown",
   "metadata": {},
   "source": [
    "#### Analyse des transactions acceptées / refusées"
   ]
  },
  {
   "cell_type": "code",
   "execution_count": 10,
   "metadata": {},
   "outputs": [
    {
     "name": "stdout",
     "output_type": "stream",
     "text": [
      "Nombre de transactions acceptées : 2225112\n",
      "Nombre de transactions refusées  : 6257\n",
      "Taux de transactions refusées sur le total : 0.28 %\n"
     ]
    }
   ],
   "source": [
    "# Séparation des transactions acceptées / refusées\n",
    "refus = df[df['FlAgImpAye'] == 1]\n",
    "accept = df[df['FlAgImpAye'] == 0]\n",
    "\n",
    "# Subset des 10000 premières transactions\n",
    "accept10000 = accept.head(1000)\n",
    "\n",
    "# Répartion des transactions\n",
    "a = accept.shape[0]\n",
    "r = refus.shape[0]\n",
    "\n",
    "print(\"Nombre de transactions acceptées : {}\".format(a))\n",
    "print(\"Nombre de transactions refusées  : {}\".format(r))\n",
    "\n",
    "# Taux de transactions refusées dans la population totale\n",
    "tx = refus.shape[0] / df.shape[0] *100\n",
    "print(\"Taux de transactions refusées sur le total : {0:.2f} %\".format(tx))"
   ]
  },
  {
   "cell_type": "code",
   "execution_count": 11,
   "metadata": {},
   "outputs": [
    {
     "data": {
      "text/html": [
       "<div>\n",
       "<style scoped>\n",
       "    .dataframe tbody tr th:only-of-type {\n",
       "        vertical-align: middle;\n",
       "    }\n",
       "\n",
       "    .dataframe tbody tr th {\n",
       "        vertical-align: top;\n",
       "    }\n",
       "\n",
       "    .dataframe thead th {\n",
       "        text-align: right;\n",
       "    }\n",
       "</style>\n",
       "<table border=\"1\" class=\"dataframe\">\n",
       "  <thead>\n",
       "    <tr style=\"text-align: right;\">\n",
       "      <th></th>\n",
       "      <th>IDAvisAutorisAtionCheque</th>\n",
       "      <th>MontAnt</th>\n",
       "      <th>CodeDecision</th>\n",
       "      <th>VerifiAnceCPT1</th>\n",
       "      <th>VerifiAnceCPT2</th>\n",
       "      <th>VerifiAnceCPT3</th>\n",
       "      <th>D2CB</th>\n",
       "      <th>ScoringFP1</th>\n",
       "      <th>ScoringFP2</th>\n",
       "      <th>ScoringFP3</th>\n",
       "      <th>...</th>\n",
       "      <th>TAuxImpNB_CPM</th>\n",
       "      <th>EcArtNumCheq</th>\n",
       "      <th>NbrMAgAsin3J</th>\n",
       "      <th>DiffDAteTr1</th>\n",
       "      <th>DiffDAteTr2</th>\n",
       "      <th>DiffDAteTr3</th>\n",
       "      <th>CA3TRetMtt</th>\n",
       "      <th>CA3TR</th>\n",
       "      <th>Heure</th>\n",
       "      <th>FlAgImpAye</th>\n",
       "    </tr>\n",
       "  </thead>\n",
       "  <tbody>\n",
       "    <tr>\n",
       "      <th>count</th>\n",
       "      <td>6.257000e+03</td>\n",
       "      <td>6257.000000</td>\n",
       "      <td>6257.000000</td>\n",
       "      <td>6257.000000</td>\n",
       "      <td>6257.000000</td>\n",
       "      <td>6257.000000</td>\n",
       "      <td>6257.000000</td>\n",
       "      <td>6257.000000</td>\n",
       "      <td>6257.000000</td>\n",
       "      <td>6257.000000</td>\n",
       "      <td>...</td>\n",
       "      <td>6257.000000</td>\n",
       "      <td>6.257000e+03</td>\n",
       "      <td>6257.000000</td>\n",
       "      <td>6257.000000</td>\n",
       "      <td>6257.000000</td>\n",
       "      <td>6257.000000</td>\n",
       "      <td>6257.000000</td>\n",
       "      <td>6257.000000</td>\n",
       "      <td>6257.000000</td>\n",
       "      <td>6257.0</td>\n",
       "    </tr>\n",
       "    <tr>\n",
       "      <th>mean</th>\n",
       "      <td>7.372501e+07</td>\n",
       "      <td>94.557721</td>\n",
       "      <td>0.049385</td>\n",
       "      <td>0.582228</td>\n",
       "      <td>0.762506</td>\n",
       "      <td>1.043791</td>\n",
       "      <td>120.252357</td>\n",
       "      <td>13.129692</td>\n",
       "      <td>-6.484655</td>\n",
       "      <td>0.548859</td>\n",
       "      <td>...</td>\n",
       "      <td>40.543897</td>\n",
       "      <td>4.913774e+03</td>\n",
       "      <td>1.113952</td>\n",
       "      <td>3.462059</td>\n",
       "      <td>4.132642</td>\n",
       "      <td>4.308389</td>\n",
       "      <td>125.447465</td>\n",
       "      <td>30.889744</td>\n",
       "      <td>55993.042832</td>\n",
       "      <td>1.0</td>\n",
       "    </tr>\n",
       "    <tr>\n",
       "      <th>std</th>\n",
       "      <td>1.461851e+06</td>\n",
       "      <td>133.659270</td>\n",
       "      <td>0.326215</td>\n",
       "      <td>0.736553</td>\n",
       "      <td>1.035116</td>\n",
       "      <td>1.660143</td>\n",
       "      <td>174.550080</td>\n",
       "      <td>60.269539</td>\n",
       "      <td>10.487739</td>\n",
       "      <td>1.496775</td>\n",
       "      <td>...</td>\n",
       "      <td>46.146348</td>\n",
       "      <td>1.356109e+05</td>\n",
       "      <td>0.427206</td>\n",
       "      <td>1.662598</td>\n",
       "      <td>1.004134</td>\n",
       "      <td>0.696478</td>\n",
       "      <td>183.762486</td>\n",
       "      <td>103.232060</td>\n",
       "      <td>11768.679965</td>\n",
       "      <td>0.0</td>\n",
       "    </tr>\n",
       "    <tr>\n",
       "      <th>min</th>\n",
       "      <td>7.105166e+07</td>\n",
       "      <td>3.170000</td>\n",
       "      <td>0.000000</td>\n",
       "      <td>0.000000</td>\n",
       "      <td>0.000000</td>\n",
       "      <td>0.000000</td>\n",
       "      <td>1.000000</td>\n",
       "      <td>0.000000</td>\n",
       "      <td>-43.111829</td>\n",
       "      <td>0.000000</td>\n",
       "      <td>...</td>\n",
       "      <td>0.000000</td>\n",
       "      <td>0.000000e+00</td>\n",
       "      <td>1.000000</td>\n",
       "      <td>0.000324</td>\n",
       "      <td>0.003507</td>\n",
       "      <td>0.016412</td>\n",
       "      <td>4.000000</td>\n",
       "      <td>0.000000</td>\n",
       "      <td>1402.000000</td>\n",
       "      <td>1.0</td>\n",
       "    </tr>\n",
       "    <tr>\n",
       "      <th>25%</th>\n",
       "      <td>7.249057e+07</td>\n",
       "      <td>31.160000</td>\n",
       "      <td>0.000000</td>\n",
       "      <td>0.000000</td>\n",
       "      <td>0.000000</td>\n",
       "      <td>0.000000</td>\n",
       "      <td>1.000000</td>\n",
       "      <td>0.011909</td>\n",
       "      <td>-13.557330</td>\n",
       "      <td>0.002155</td>\n",
       "      <td>...</td>\n",
       "      <td>21.834061</td>\n",
       "      <td>0.000000e+00</td>\n",
       "      <td>1.000000</td>\n",
       "      <td>2.167292</td>\n",
       "      <td>4.000000</td>\n",
       "      <td>4.000000</td>\n",
       "      <td>38.340000</td>\n",
       "      <td>0.000000</td>\n",
       "      <td>45944.000000</td>\n",
       "      <td>1.0</td>\n",
       "    </tr>\n",
       "    <tr>\n",
       "      <th>50%</th>\n",
       "      <td>7.379739e+07</td>\n",
       "      <td>50.630000</td>\n",
       "      <td>0.000000</td>\n",
       "      <td>0.000000</td>\n",
       "      <td>0.000000</td>\n",
       "      <td>0.000000</td>\n",
       "      <td>13.000000</td>\n",
       "      <td>0.186288</td>\n",
       "      <td>-3.432834</td>\n",
       "      <td>0.026118</td>\n",
       "      <td>...</td>\n",
       "      <td>26.478376</td>\n",
       "      <td>0.000000e+00</td>\n",
       "      <td>1.000000</td>\n",
       "      <td>4.000000</td>\n",
       "      <td>4.000000</td>\n",
       "      <td>4.000000</td>\n",
       "      <td>69.880000</td>\n",
       "      <td>0.000000</td>\n",
       "      <td>57660.000000</td>\n",
       "      <td>1.0</td>\n",
       "    </tr>\n",
       "    <tr>\n",
       "      <th>75%</th>\n",
       "      <td>7.498143e+07</td>\n",
       "      <td>103.240000</td>\n",
       "      <td>0.000000</td>\n",
       "      <td>1.000000</td>\n",
       "      <td>1.000000</td>\n",
       "      <td>2.000000</td>\n",
       "      <td>198.000000</td>\n",
       "      <td>3.941429</td>\n",
       "      <td>0.000000</td>\n",
       "      <td>0.716043</td>\n",
       "      <td>...</td>\n",
       "      <td>41.356493</td>\n",
       "      <td>1.000000e+00</td>\n",
       "      <td>1.000000</td>\n",
       "      <td>5.000000</td>\n",
       "      <td>5.000000</td>\n",
       "      <td>5.000000</td>\n",
       "      <td>143.130000</td>\n",
       "      <td>23.110000</td>\n",
       "      <td>65860.000000</td>\n",
       "      <td>1.0</td>\n",
       "    </tr>\n",
       "    <tr>\n",
       "      <th>max</th>\n",
       "      <td>7.619233e+07</td>\n",
       "      <td>3825.610000</td>\n",
       "      <td>3.000000</td>\n",
       "      <td>9.000000</td>\n",
       "      <td>12.000000</td>\n",
       "      <td>18.000000</td>\n",
       "      <td>551.000000</td>\n",
       "      <td>905.000000</td>\n",
       "      <td>32.520261</td>\n",
       "      <td>18.391399</td>\n",
       "      <td>...</td>\n",
       "      <td>714.285714</td>\n",
       "      <td>7.423270e+06</td>\n",
       "      <td>7.000000</td>\n",
       "      <td>5.000000</td>\n",
       "      <td>5.000000</td>\n",
       "      <td>5.000000</td>\n",
       "      <td>5156.190000</td>\n",
       "      <td>3775.720000</td>\n",
       "      <td>79798.000000</td>\n",
       "      <td>1.0</td>\n",
       "    </tr>\n",
       "  </tbody>\n",
       "</table>\n",
       "<p>8 rows × 21 columns</p>\n",
       "</div>"
      ],
      "text/plain": [
       "       IDAvisAutorisAtionCheque      MontAnt  CodeDecision  VerifiAnceCPT1  \\\n",
       "count              6.257000e+03  6257.000000   6257.000000     6257.000000   \n",
       "mean               7.372501e+07    94.557721      0.049385        0.582228   \n",
       "std                1.461851e+06   133.659270      0.326215        0.736553   \n",
       "min                7.105166e+07     3.170000      0.000000        0.000000   \n",
       "25%                7.249057e+07    31.160000      0.000000        0.000000   \n",
       "50%                7.379739e+07    50.630000      0.000000        0.000000   \n",
       "75%                7.498143e+07   103.240000      0.000000        1.000000   \n",
       "max                7.619233e+07  3825.610000      3.000000        9.000000   \n",
       "\n",
       "       VerifiAnceCPT2  VerifiAnceCPT3         D2CB   ScoringFP1   ScoringFP2  \\\n",
       "count     6257.000000     6257.000000  6257.000000  6257.000000  6257.000000   \n",
       "mean         0.762506        1.043791   120.252357    13.129692    -6.484655   \n",
       "std          1.035116        1.660143   174.550080    60.269539    10.487739   \n",
       "min          0.000000        0.000000     1.000000     0.000000   -43.111829   \n",
       "25%          0.000000        0.000000     1.000000     0.011909   -13.557330   \n",
       "50%          0.000000        0.000000    13.000000     0.186288    -3.432834   \n",
       "75%          1.000000        2.000000   198.000000     3.941429     0.000000   \n",
       "max         12.000000       18.000000   551.000000   905.000000    32.520261   \n",
       "\n",
       "        ScoringFP3  ...  TAuxImpNB_CPM  EcArtNumCheq  NbrMAgAsin3J  \\\n",
       "count  6257.000000  ...    6257.000000  6.257000e+03   6257.000000   \n",
       "mean      0.548859  ...      40.543897  4.913774e+03      1.113952   \n",
       "std       1.496775  ...      46.146348  1.356109e+05      0.427206   \n",
       "min       0.000000  ...       0.000000  0.000000e+00      1.000000   \n",
       "25%       0.002155  ...      21.834061  0.000000e+00      1.000000   \n",
       "50%       0.026118  ...      26.478376  0.000000e+00      1.000000   \n",
       "75%       0.716043  ...      41.356493  1.000000e+00      1.000000   \n",
       "max      18.391399  ...     714.285714  7.423270e+06      7.000000   \n",
       "\n",
       "       DiffDAteTr1  DiffDAteTr2  DiffDAteTr3   CA3TRetMtt        CA3TR  \\\n",
       "count  6257.000000  6257.000000  6257.000000  6257.000000  6257.000000   \n",
       "mean      3.462059     4.132642     4.308389   125.447465    30.889744   \n",
       "std       1.662598     1.004134     0.696478   183.762486   103.232060   \n",
       "min       0.000324     0.003507     0.016412     4.000000     0.000000   \n",
       "25%       2.167292     4.000000     4.000000    38.340000     0.000000   \n",
       "50%       4.000000     4.000000     4.000000    69.880000     0.000000   \n",
       "75%       5.000000     5.000000     5.000000   143.130000    23.110000   \n",
       "max       5.000000     5.000000     5.000000  5156.190000  3775.720000   \n",
       "\n",
       "              Heure  FlAgImpAye  \n",
       "count   6257.000000      6257.0  \n",
       "mean   55993.042832         1.0  \n",
       "std    11768.679965         0.0  \n",
       "min     1402.000000         1.0  \n",
       "25%    45944.000000         1.0  \n",
       "50%    57660.000000         1.0  \n",
       "75%    65860.000000         1.0  \n",
       "max    79798.000000         1.0  \n",
       "\n",
       "[8 rows x 21 columns]"
      ]
     },
     "execution_count": 11,
     "metadata": {},
     "output_type": "execute_result"
    }
   ],
   "source": [
    "# Résumé des transactions refusées\n",
    "refus.describe()"
   ]
  },
  {
   "cell_type": "markdown",
   "metadata": {},
   "source": [
    "### Comparaison de moyennes"
   ]
  },
  {
   "cell_type": "markdown",
   "metadata": {},
   "source": [
    "Nous analysons les moyennes des variables en fonction du type de transaction (refusée ou acceptée).  \n",
    "On note que la moyenne pour certaines variables n'ont que très peu de différence entre les transactions acceptées et refusées. Ce sont des variables que nous déciderons de ne pas considérer dans la suite, à savoir :\n",
    "- ScoringFP3\n",
    "- NbrMAgAsin3J\n",
    "- DiffDAteTr1\n",
    "- DiffDAteTr2\n",
    "- DiffDAteTr3\n",
    "- Heure "
   ]
  },
  {
   "cell_type": "code",
   "execution_count": 12,
   "metadata": {},
   "outputs": [
    {
     "data": {
      "text/html": [
       "<div>\n",
       "<style scoped>\n",
       "    .dataframe tbody tr th:only-of-type {\n",
       "        vertical-align: middle;\n",
       "    }\n",
       "\n",
       "    .dataframe tbody tr th {\n",
       "        vertical-align: top;\n",
       "    }\n",
       "\n",
       "    .dataframe thead th {\n",
       "        text-align: right;\n",
       "    }\n",
       "</style>\n",
       "<table border=\"1\" class=\"dataframe\">\n",
       "  <thead>\n",
       "    <tr style=\"text-align: right;\">\n",
       "      <th></th>\n",
       "      <th>IDAvisAutorisAtionCheque</th>\n",
       "      <th>MontAnt</th>\n",
       "      <th>CodeDecision</th>\n",
       "      <th>VerifiAnceCPT1</th>\n",
       "      <th>VerifiAnceCPT2</th>\n",
       "      <th>VerifiAnceCPT3</th>\n",
       "      <th>D2CB</th>\n",
       "      <th>ScoringFP1</th>\n",
       "      <th>ScoringFP2</th>\n",
       "      <th>ScoringFP3</th>\n",
       "      <th>TAuxImpNb_RB</th>\n",
       "      <th>TAuxImpNB_CPM</th>\n",
       "      <th>EcArtNumCheq</th>\n",
       "      <th>NbrMAgAsin3J</th>\n",
       "      <th>DiffDAteTr1</th>\n",
       "      <th>DiffDAteTr2</th>\n",
       "      <th>DiffDAteTr3</th>\n",
       "      <th>CA3TRetMtt</th>\n",
       "      <th>CA3TR</th>\n",
       "      <th>Heure</th>\n",
       "    </tr>\n",
       "    <tr>\n",
       "      <th>FlAgImpAye</th>\n",
       "      <th></th>\n",
       "      <th></th>\n",
       "      <th></th>\n",
       "      <th></th>\n",
       "      <th></th>\n",
       "      <th></th>\n",
       "      <th></th>\n",
       "      <th></th>\n",
       "      <th></th>\n",
       "      <th></th>\n",
       "      <th></th>\n",
       "      <th></th>\n",
       "      <th></th>\n",
       "      <th></th>\n",
       "      <th></th>\n",
       "      <th></th>\n",
       "      <th></th>\n",
       "      <th></th>\n",
       "      <th></th>\n",
       "      <th></th>\n",
       "    </tr>\n",
       "  </thead>\n",
       "  <tbody>\n",
       "    <tr>\n",
       "      <th>0</th>\n",
       "      <td>7.356717e+07</td>\n",
       "      <td>59.820306</td>\n",
       "      <td>0.012778</td>\n",
       "      <td>0.398625</td>\n",
       "      <td>0.428739</td>\n",
       "      <td>0.480117</td>\n",
       "      <td>248.152462</td>\n",
       "      <td>3.072340</td>\n",
       "      <td>0.708439</td>\n",
       "      <td>0.175896</td>\n",
       "      <td>32.838723</td>\n",
       "      <td>32.538772</td>\n",
       "      <td>6729.425304</td>\n",
       "      <td>1.033976</td>\n",
       "      <td>3.949174</td>\n",
       "      <td>4.234448</td>\n",
       "      <td>4.266116</td>\n",
       "      <td>66.669936</td>\n",
       "      <td>6.849630</td>\n",
       "      <td>53465.969675</td>\n",
       "    </tr>\n",
       "    <tr>\n",
       "      <th>1</th>\n",
       "      <td>7.372501e+07</td>\n",
       "      <td>94.557721</td>\n",
       "      <td>0.049385</td>\n",
       "      <td>0.582228</td>\n",
       "      <td>0.762506</td>\n",
       "      <td>1.043791</td>\n",
       "      <td>120.252357</td>\n",
       "      <td>13.129692</td>\n",
       "      <td>-6.484655</td>\n",
       "      <td>0.548859</td>\n",
       "      <td>42.546430</td>\n",
       "      <td>40.543897</td>\n",
       "      <td>4913.774173</td>\n",
       "      <td>1.113952</td>\n",
       "      <td>3.462059</td>\n",
       "      <td>4.132642</td>\n",
       "      <td>4.308389</td>\n",
       "      <td>125.447465</td>\n",
       "      <td>30.889744</td>\n",
       "      <td>55993.042832</td>\n",
       "    </tr>\n",
       "  </tbody>\n",
       "</table>\n",
       "</div>"
      ],
      "text/plain": [
       "            IDAvisAutorisAtionCheque    MontAnt  CodeDecision  VerifiAnceCPT1  \\\n",
       "FlAgImpAye                                                                      \n",
       "0                       7.356717e+07  59.820306      0.012778        0.398625   \n",
       "1                       7.372501e+07  94.557721      0.049385        0.582228   \n",
       "\n",
       "            VerifiAnceCPT2  VerifiAnceCPT3        D2CB  ScoringFP1  \\\n",
       "FlAgImpAye                                                           \n",
       "0                 0.428739        0.480117  248.152462    3.072340   \n",
       "1                 0.762506        1.043791  120.252357   13.129692   \n",
       "\n",
       "            ScoringFP2  ScoringFP3  TAuxImpNb_RB  TAuxImpNB_CPM  EcArtNumCheq  \\\n",
       "FlAgImpAye                                                                      \n",
       "0             0.708439    0.175896     32.838723      32.538772   6729.425304   \n",
       "1            -6.484655    0.548859     42.546430      40.543897   4913.774173   \n",
       "\n",
       "            NbrMAgAsin3J  DiffDAteTr1  DiffDAteTr2  DiffDAteTr3  CA3TRetMtt  \\\n",
       "FlAgImpAye                                                                    \n",
       "0               1.033976     3.949174     4.234448     4.266116   66.669936   \n",
       "1               1.113952     3.462059     4.132642     4.308389  125.447465   \n",
       "\n",
       "                CA3TR         Heure  \n",
       "FlAgImpAye                           \n",
       "0            6.849630  53465.969675  \n",
       "1           30.889744  55993.042832  "
      ]
     },
     "execution_count": 12,
     "metadata": {},
     "output_type": "execute_result"
    }
   ],
   "source": [
    "df.groupby('FlAgImpAye').mean()"
   ]
  },
  {
   "cell_type": "markdown",
   "metadata": {},
   "source": [
    "Nous allons un peu plus loin pour le montant des transactions pour comprendre la différence de moyenne que nous observons."
   ]
  },
  {
   "cell_type": "code",
   "execution_count": 14,
   "metadata": {
    "button": false,
    "collapsed": false,
    "jupyter": {
     "outputs_hidden": false
    },
    "new_sheet": false,
    "run_control": {
     "read_only": false
    }
   },
   "outputs": [
    {
     "data": {
      "image/png": "[encoded data removed]",
      "text/plain": [
       "<Figure size 720x360 with 1 Axes>"
      ]
     },
     "metadata": {
      "needs_background": "light"
     },
     "output_type": "display_data"
    }
   ],
   "source": [
    "# Subplot 1\n",
    "import matplotlib.pyplot as plt\n",
    "accept10000[\"MontAnt\"].plot(kind='kde', # basé sur les 10000 premières transactions seulement (trop lent sinon !)\n",
    "                   xlim=(0,200),\n",
    "             stacked=False,\n",
    "             figsize=(10, 5),\n",
    "             )\n",
    "# Subplot 2:\n",
    "refus[\"MontAnt\"].plot(kind='kde',\n",
    "                   xlim=(0,200),\n",
    "             stacked=False,\n",
    "             figsize=(10, 5),\n",
    "             )\n",
    "plt.xlabel(\"Montant des transactions\")\n",
    "plt.ylabel(\"Nombre des transactions\")\n",
    "plt.title(\"Distribution des montants de transactions\")\n",
    "plt.legend(['accept','refus'])\n",
    "\n",
    "plt.show()"
   ]
  },
  {
   "cell_type": "markdown",
   "metadata": {},
   "source": [
    "En faisant un focus sur les 10000 premières transactions, on peut visualiser le décalage de montant entre les transactions refusées et les transactions acceptées. Les transactions refusées ont une moyenne plus élevée et une variance plus importante à la vue de graphique."
   ]
  },
  {
   "cell_type": "code",
   "execution_count": 15,
   "metadata": {},
   "outputs": [
    {
     "data": {
      "image/png": "[encoded data removed]",
      "text/plain": [
       "<Figure size 1080x576 with 2 Axes>"
      ]
     },
     "metadata": {
      "needs_background": "light"
     },
     "output_type": "display_data"
    }
   ],
   "source": [
    "fig = plt.figure()\n",
    "ax0 = fig.add_subplot(1, 2, 1)\n",
    "ax1 = fig.add_subplot(1, 2, 2)\n",
    "\n",
    "\n",
    "accept10000[\"MontAnt\"].plot(kind='box',\n",
    "                   ylim=(0,300),\n",
    "             stacked=False,\n",
    "             figsize=(15, 8),\n",
    "             ax=ax0\n",
    "             )\n",
    "ax0.set_title(\"Distribution des montants de transactions acceptées\")\n",
    "\n",
    "refus[\"MontAnt\"].plot(kind='box',\n",
    "                   ylim=(0,300),\n",
    "             stacked=False,\n",
    "             figsize=(15, 8),\n",
    "             ax=ax1\n",
    "             )\n",
    "ax1.set_title(\"Distribution des montants de transactions refusées\")\n",
    "\n",
    "plt.show()"
   ]
  },
  {
   "cell_type": "markdown",
   "metadata": {},
   "source": [
    "Testons si la différence de moyenne est significative !"
   ]
  },
  {
   "cell_type": "code",
   "execution_count": 16,
   "metadata": {},
   "outputs": [
    {
     "name": "stdout",
     "output_type": "stream",
     "text": [
      "m_refus = 94.55772095253336\n",
      "m_accept = 59.82030618237889\n",
      "d = 34.737414770154466\n",
      "std refus = 133.65926983611553\n",
      "std accept = 79.58524228720847\n",
      "u = 1.959963984540054\n",
      "e = 3.3134504375977487\n",
      "[31.423964332556718, 38.05086520775222]\n"
     ]
    }
   ],
   "source": [
    "# Calcul de la différence des moyennes\n",
    "m_refus = refus[\"MontAnt\"].mean()\n",
    "m_accept = accept[\"MontAnt\"].mean()\n",
    "\n",
    "d = m_refus - m_accept\n",
    "print(\"m_refus =\",m_refus)\n",
    "print(\"m_accept =\",m_accept)\n",
    "print(\"d =\",d)\n",
    "\n",
    "# Variances\n",
    "std_refus = refus[\"MontAnt\"].std()\n",
    "std_accept = accept[\"MontAnt\"].std()\n",
    "print(\"std refus = {}\".format(std_refus))\n",
    "print(\"std accept = {}\".format(std_accept))\n",
    "\n",
    "# calcul de l'intervalle d'estimation à 5%\n",
    "from scipy import stats\n",
    "import numpy as np\n",
    "u = stats.norm.ppf(0.975)\n",
    "e = u*np.sqrt(std_refus**2/r+std_accept**2/a)\n",
    "interval = [d-e,d+e]\n",
    "print(\"u = {}\".format(u))\n",
    "print(\"e = {}\".format(e))\n",
    "print(interval)\n"
   ]
  },
  {
   "cell_type": "markdown",
   "metadata": {},
   "source": [
    "La différence de montant moyen de transaction entre acceptées et refusées est effectivement significative à 5% et comprise entre 31 et 38 €."
   ]
  },
  {
   "cell_type": "markdown",
   "metadata": {},
   "source": [
    "### Corrélations"
   ]
  },
  {
   "cell_type": "markdown",
   "metadata": {},
   "source": [
    "Faison une sélection de variables sur lesquelles examiner les corrélations.  \n",
    "Examinons d'abord les différentes variables."
   ]
  },
  {
   "cell_type": "code",
   "execution_count": 17,
   "metadata": {},
   "outputs": [
    {
     "data": {
      "text/html": [
       "<div>\n",
       "<style scoped>\n",
       "    .dataframe tbody tr th:only-of-type {\n",
       "        vertical-align: middle;\n",
       "    }\n",
       "\n",
       "    .dataframe tbody tr th {\n",
       "        vertical-align: top;\n",
       "    }\n",
       "\n",
       "    .dataframe thead th {\n",
       "        text-align: right;\n",
       "    }\n",
       "</style>\n",
       "<table border=\"1\" class=\"dataframe\">\n",
       "  <thead>\n",
       "    <tr style=\"text-align: right;\">\n",
       "      <th></th>\n",
       "      <th>0</th>\n",
       "    </tr>\n",
       "  </thead>\n",
       "  <tbody>\n",
       "    <tr>\n",
       "      <th>0</th>\n",
       "      <td>ZIBZIN</td>\n",
       "    </tr>\n",
       "    <tr>\n",
       "      <th>1</th>\n",
       "      <td>IDAvisAutorisAtionCheque</td>\n",
       "    </tr>\n",
       "    <tr>\n",
       "      <th>2</th>\n",
       "      <td>MontAnt</td>\n",
       "    </tr>\n",
       "    <tr>\n",
       "      <th>3</th>\n",
       "      <td>DAteTrAnsAction</td>\n",
       "    </tr>\n",
       "    <tr>\n",
       "      <th>4</th>\n",
       "      <td>CodeDecision</td>\n",
       "    </tr>\n",
       "    <tr>\n",
       "      <th>5</th>\n",
       "      <td>VerifiAnceCPT1</td>\n",
       "    </tr>\n",
       "    <tr>\n",
       "      <th>6</th>\n",
       "      <td>VerifiAnceCPT2</td>\n",
       "    </tr>\n",
       "    <tr>\n",
       "      <th>7</th>\n",
       "      <td>VerifiAnceCPT3</td>\n",
       "    </tr>\n",
       "    <tr>\n",
       "      <th>8</th>\n",
       "      <td>D2CB</td>\n",
       "    </tr>\n",
       "    <tr>\n",
       "      <th>9</th>\n",
       "      <td>ScoringFP1</td>\n",
       "    </tr>\n",
       "    <tr>\n",
       "      <th>10</th>\n",
       "      <td>ScoringFP2</td>\n",
       "    </tr>\n",
       "    <tr>\n",
       "      <th>11</th>\n",
       "      <td>ScoringFP3</td>\n",
       "    </tr>\n",
       "    <tr>\n",
       "      <th>12</th>\n",
       "      <td>TAuxImpNb_RB</td>\n",
       "    </tr>\n",
       "    <tr>\n",
       "      <th>13</th>\n",
       "      <td>TAuxImpNB_CPM</td>\n",
       "    </tr>\n",
       "    <tr>\n",
       "      <th>14</th>\n",
       "      <td>EcArtNumCheq</td>\n",
       "    </tr>\n",
       "    <tr>\n",
       "      <th>15</th>\n",
       "      <td>NbrMAgAsin3J</td>\n",
       "    </tr>\n",
       "    <tr>\n",
       "      <th>16</th>\n",
       "      <td>DiffDAteTr1</td>\n",
       "    </tr>\n",
       "    <tr>\n",
       "      <th>17</th>\n",
       "      <td>DiffDAteTr2</td>\n",
       "    </tr>\n",
       "    <tr>\n",
       "      <th>18</th>\n",
       "      <td>DiffDAteTr3</td>\n",
       "    </tr>\n",
       "    <tr>\n",
       "      <th>19</th>\n",
       "      <td>CA3TRetMtt</td>\n",
       "    </tr>\n",
       "    <tr>\n",
       "      <th>20</th>\n",
       "      <td>CA3TR</td>\n",
       "    </tr>\n",
       "    <tr>\n",
       "      <th>21</th>\n",
       "      <td>Heure</td>\n",
       "    </tr>\n",
       "    <tr>\n",
       "      <th>22</th>\n",
       "      <td>FlAgImpAye</td>\n",
       "    </tr>\n",
       "  </tbody>\n",
       "</table>\n",
       "</div>"
      ],
      "text/plain": [
       "                           0\n",
       "0                     ZIBZIN\n",
       "1   IDAvisAutorisAtionCheque\n",
       "2                    MontAnt\n",
       "3            DAteTrAnsAction\n",
       "4               CodeDecision\n",
       "5             VerifiAnceCPT1\n",
       "6             VerifiAnceCPT2\n",
       "7             VerifiAnceCPT3\n",
       "8                       D2CB\n",
       "9                 ScoringFP1\n",
       "10                ScoringFP2\n",
       "11                ScoringFP3\n",
       "12              TAuxImpNb_RB\n",
       "13             TAuxImpNB_CPM\n",
       "14              EcArtNumCheq\n",
       "15              NbrMAgAsin3J\n",
       "16               DiffDAteTr1\n",
       "17               DiffDAteTr2\n",
       "18               DiffDAteTr3\n",
       "19                CA3TRetMtt\n",
       "20                     CA3TR\n",
       "21                     Heure\n",
       "22                FlAgImpAye"
      ]
     },
     "execution_count": 17,
     "metadata": {},
     "output_type": "execute_result"
    }
   ],
   "source": [
    "pd.DataFrame(df.columns)"
   ]
  },
  {
   "cell_type": "code",
   "execution_count": 18,
   "metadata": {},
   "outputs": [],
   "source": [
    "varcorr = [2,5,6,7,8,9,10,11,12,13,14,15,16,17,18,19,20,21]\n",
    "dfcorr = df.iloc[:,varcorr]"
   ]
  },
  {
   "cell_type": "markdown",
   "metadata": {},
   "source": [
    "Etablissons les coefficients de corrélation pour les variables sélectionnées"
   ]
  },
  {
   "cell_type": "code",
   "execution_count": 19,
   "metadata": {},
   "outputs": [
    {
     "data": {
      "text/html": [
       "<div>\n",
       "<style scoped>\n",
       "    .dataframe tbody tr th:only-of-type {\n",
       "        vertical-align: middle;\n",
       "    }\n",
       "\n",
       "    .dataframe tbody tr th {\n",
       "        vertical-align: top;\n",
       "    }\n",
       "\n",
       "    .dataframe thead th {\n",
       "        text-align: right;\n",
       "    }\n",
       "</style>\n",
       "<table border=\"1\" class=\"dataframe\">\n",
       "  <thead>\n",
       "    <tr style=\"text-align: right;\">\n",
       "      <th></th>\n",
       "      <th>MontAnt</th>\n",
       "      <th>VerifiAnceCPT1</th>\n",
       "      <th>VerifiAnceCPT2</th>\n",
       "      <th>VerifiAnceCPT3</th>\n",
       "      <th>D2CB</th>\n",
       "      <th>ScoringFP1</th>\n",
       "      <th>ScoringFP2</th>\n",
       "      <th>ScoringFP3</th>\n",
       "      <th>TAuxImpNb_RB</th>\n",
       "      <th>TAuxImpNB_CPM</th>\n",
       "      <th>EcArtNumCheq</th>\n",
       "      <th>NbrMAgAsin3J</th>\n",
       "      <th>DiffDAteTr1</th>\n",
       "      <th>DiffDAteTr2</th>\n",
       "      <th>DiffDAteTr3</th>\n",
       "      <th>CA3TRetMtt</th>\n",
       "      <th>CA3TR</th>\n",
       "      <th>Heure</th>\n",
       "    </tr>\n",
       "  </thead>\n",
       "  <tbody>\n",
       "    <tr>\n",
       "      <th>MontAnt</th>\n",
       "      <td>1.000000</td>\n",
       "      <td>0.449371</td>\n",
       "      <td>0.421585</td>\n",
       "      <td>0.389742</td>\n",
       "      <td>-0.066918</td>\n",
       "      <td>0.407152</td>\n",
       "      <td>0.079138</td>\n",
       "      <td>0.133244</td>\n",
       "      <td>-0.004756</td>\n",
       "      <td>-0.028364</td>\n",
       "      <td>-0.004967</td>\n",
       "      <td>-0.030014</td>\n",
       "      <td>0.073920</td>\n",
       "      <td>0.070107</td>\n",
       "      <td>0.069027</td>\n",
       "      <td>0.917877</td>\n",
       "      <td>0.060658</td>\n",
       "      <td>0.013562</td>\n",
       "    </tr>\n",
       "    <tr>\n",
       "      <th>VerifiAnceCPT1</th>\n",
       "      <td>0.449371</td>\n",
       "      <td>1.000000</td>\n",
       "      <td>0.939030</td>\n",
       "      <td>0.868696</td>\n",
       "      <td>-0.067262</td>\n",
       "      <td>0.068670</td>\n",
       "      <td>0.128181</td>\n",
       "      <td>0.046132</td>\n",
       "      <td>-0.006053</td>\n",
       "      <td>-0.040806</td>\n",
       "      <td>-0.004542</td>\n",
       "      <td>-0.010928</td>\n",
       "      <td>0.062271</td>\n",
       "      <td>0.063832</td>\n",
       "      <td>0.060534</td>\n",
       "      <td>0.417222</td>\n",
       "      <td>0.039216</td>\n",
       "      <td>0.003742</td>\n",
       "    </tr>\n",
       "    <tr>\n",
       "      <th>VerifiAnceCPT2</th>\n",
       "      <td>0.421585</td>\n",
       "      <td>0.939030</td>\n",
       "      <td>1.000000</td>\n",
       "      <td>0.934981</td>\n",
       "      <td>-0.061832</td>\n",
       "      <td>0.064161</td>\n",
       "      <td>0.106889</td>\n",
       "      <td>0.041338</td>\n",
       "      <td>-0.005410</td>\n",
       "      <td>-0.036128</td>\n",
       "      <td>0.002945</td>\n",
       "      <td>0.013190</td>\n",
       "      <td>0.015726</td>\n",
       "      <td>0.038687</td>\n",
       "      <td>0.046465</td>\n",
       "      <td>0.417042</td>\n",
       "      <td>0.101225</td>\n",
       "      <td>0.001619</td>\n",
       "    </tr>\n",
       "    <tr>\n",
       "      <th>VerifiAnceCPT3</th>\n",
       "      <td>0.389742</td>\n",
       "      <td>0.868696</td>\n",
       "      <td>0.934981</td>\n",
       "      <td>1.000000</td>\n",
       "      <td>-0.053551</td>\n",
       "      <td>0.053178</td>\n",
       "      <td>0.091850</td>\n",
       "      <td>0.027721</td>\n",
       "      <td>-0.005314</td>\n",
       "      <td>-0.034163</td>\n",
       "      <td>0.006493</td>\n",
       "      <td>0.020101</td>\n",
       "      <td>-0.001600</td>\n",
       "      <td>0.018390</td>\n",
       "      <td>0.027146</td>\n",
       "      <td>0.395700</td>\n",
       "      <td>0.119128</td>\n",
       "      <td>0.000076</td>\n",
       "    </tr>\n",
       "    <tr>\n",
       "      <th>D2CB</th>\n",
       "      <td>-0.066918</td>\n",
       "      <td>-0.067262</td>\n",
       "      <td>-0.061832</td>\n",
       "      <td>-0.053551</td>\n",
       "      <td>1.000000</td>\n",
       "      <td>-0.117004</td>\n",
       "      <td>-0.148568</td>\n",
       "      <td>-0.357932</td>\n",
       "      <td>0.006847</td>\n",
       "      <td>0.049810</td>\n",
       "      <td>0.019564</td>\n",
       "      <td>0.069176</td>\n",
       "      <td>-0.349217</td>\n",
       "      <td>-0.588348</td>\n",
       "      <td>-0.682462</td>\n",
       "      <td>-0.048663</td>\n",
       "      <td>0.028033</td>\n",
       "      <td>-0.006254</td>\n",
       "    </tr>\n",
       "    <tr>\n",
       "      <th>ScoringFP1</th>\n",
       "      <td>0.407152</td>\n",
       "      <td>0.068670</td>\n",
       "      <td>0.064161</td>\n",
       "      <td>0.053178</td>\n",
       "      <td>-0.117004</td>\n",
       "      <td>1.000000</td>\n",
       "      <td>-0.008655</td>\n",
       "      <td>0.367638</td>\n",
       "      <td>-0.001596</td>\n",
       "      <td>-0.005168</td>\n",
       "      <td>-0.003334</td>\n",
       "      <td>-0.014808</td>\n",
       "      <td>0.081406</td>\n",
       "      <td>0.134805</td>\n",
       "      <td>0.156178</td>\n",
       "      <td>0.369111</td>\n",
       "      <td>0.013116</td>\n",
       "      <td>0.000183</td>\n",
       "    </tr>\n",
       "    <tr>\n",
       "      <th>ScoringFP2</th>\n",
       "      <td>0.079138</td>\n",
       "      <td>0.128181</td>\n",
       "      <td>0.106889</td>\n",
       "      <td>0.091850</td>\n",
       "      <td>-0.148568</td>\n",
       "      <td>-0.008655</td>\n",
       "      <td>1.000000</td>\n",
       "      <td>-0.027542</td>\n",
       "      <td>-0.008154</td>\n",
       "      <td>-0.061697</td>\n",
       "      <td>-0.002616</td>\n",
       "      <td>-0.029744</td>\n",
       "      <td>0.082637</td>\n",
       "      <td>0.092490</td>\n",
       "      <td>0.094741</td>\n",
       "      <td>0.060221</td>\n",
       "      <td>-0.026433</td>\n",
       "      <td>-0.094061</td>\n",
       "    </tr>\n",
       "    <tr>\n",
       "      <th>ScoringFP3</th>\n",
       "      <td>0.133244</td>\n",
       "      <td>0.046132</td>\n",
       "      <td>0.041338</td>\n",
       "      <td>0.027721</td>\n",
       "      <td>-0.357932</td>\n",
       "      <td>0.367638</td>\n",
       "      <td>-0.027542</td>\n",
       "      <td>1.000000</td>\n",
       "      <td>0.001811</td>\n",
       "      <td>0.002308</td>\n",
       "      <td>-0.010204</td>\n",
       "      <td>-0.043327</td>\n",
       "      <td>0.251666</td>\n",
       "      <td>0.411004</td>\n",
       "      <td>0.473758</td>\n",
       "      <td>0.109517</td>\n",
       "      <td>-0.024072</td>\n",
       "      <td>0.023424</td>\n",
       "    </tr>\n",
       "    <tr>\n",
       "      <th>TAuxImpNb_RB</th>\n",
       "      <td>-0.004756</td>\n",
       "      <td>-0.006053</td>\n",
       "      <td>-0.005410</td>\n",
       "      <td>-0.005314</td>\n",
       "      <td>0.006847</td>\n",
       "      <td>-0.001596</td>\n",
       "      <td>-0.008154</td>\n",
       "      <td>0.001811</td>\n",
       "      <td>1.000000</td>\n",
       "      <td>0.106220</td>\n",
       "      <td>-0.000498</td>\n",
       "      <td>0.001068</td>\n",
       "      <td>-0.006776</td>\n",
       "      <td>-0.012700</td>\n",
       "      <td>-0.014402</td>\n",
       "      <td>-0.004659</td>\n",
       "      <td>-0.001027</td>\n",
       "      <td>0.008144</td>\n",
       "    </tr>\n",
       "    <tr>\n",
       "      <th>TAuxImpNB_CPM</th>\n",
       "      <td>-0.028364</td>\n",
       "      <td>-0.040806</td>\n",
       "      <td>-0.036128</td>\n",
       "      <td>-0.034163</td>\n",
       "      <td>0.049810</td>\n",
       "      <td>-0.005168</td>\n",
       "      <td>-0.061697</td>\n",
       "      <td>0.002308</td>\n",
       "      <td>0.106220</td>\n",
       "      <td>1.000000</td>\n",
       "      <td>-0.001987</td>\n",
       "      <td>-0.007761</td>\n",
       "      <td>-0.027373</td>\n",
       "      <td>-0.061982</td>\n",
       "      <td>-0.074023</td>\n",
       "      <td>-0.028716</td>\n",
       "      <td>-0.008466</td>\n",
       "      <td>0.032082</td>\n",
       "    </tr>\n",
       "    <tr>\n",
       "      <th>EcArtNumCheq</th>\n",
       "      <td>-0.004967</td>\n",
       "      <td>-0.004542</td>\n",
       "      <td>0.002945</td>\n",
       "      <td>0.006493</td>\n",
       "      <td>0.019564</td>\n",
       "      <td>-0.003334</td>\n",
       "      <td>-0.002616</td>\n",
       "      <td>-0.010204</td>\n",
       "      <td>-0.000498</td>\n",
       "      <td>-0.001987</td>\n",
       "      <td>1.000000</td>\n",
       "      <td>0.057113</td>\n",
       "      <td>-0.085630</td>\n",
       "      <td>-0.040494</td>\n",
       "      <td>-0.020851</td>\n",
       "      <td>0.020489</td>\n",
       "      <td>0.062697</td>\n",
       "      <td>-0.007314</td>\n",
       "    </tr>\n",
       "    <tr>\n",
       "      <th>NbrMAgAsin3J</th>\n",
       "      <td>-0.030014</td>\n",
       "      <td>-0.010928</td>\n",
       "      <td>0.013190</td>\n",
       "      <td>0.020101</td>\n",
       "      <td>0.069176</td>\n",
       "      <td>-0.014808</td>\n",
       "      <td>-0.029744</td>\n",
       "      <td>-0.043327</td>\n",
       "      <td>0.001068</td>\n",
       "      <td>-0.007761</td>\n",
       "      <td>0.057113</td>\n",
       "      <td>1.000000</td>\n",
       "      <td>-0.491067</td>\n",
       "      <td>-0.195227</td>\n",
       "      <td>-0.095963</td>\n",
       "      <td>0.080875</td>\n",
       "      <td>0.270879</td>\n",
       "      <td>0.002466</td>\n",
       "    </tr>\n",
       "    <tr>\n",
       "      <th>DiffDAteTr1</th>\n",
       "      <td>0.073920</td>\n",
       "      <td>0.062271</td>\n",
       "      <td>0.015726</td>\n",
       "      <td>-0.001600</td>\n",
       "      <td>-0.349217</td>\n",
       "      <td>0.081406</td>\n",
       "      <td>0.082637</td>\n",
       "      <td>0.251666</td>\n",
       "      <td>-0.006776</td>\n",
       "      <td>-0.027373</td>\n",
       "      <td>-0.085630</td>\n",
       "      <td>-0.491067</td>\n",
       "      <td>1.000000</td>\n",
       "      <td>0.582816</td>\n",
       "      <td>0.495857</td>\n",
       "      <td>-0.125175</td>\n",
       "      <td>-0.480995</td>\n",
       "      <td>0.009361</td>\n",
       "    </tr>\n",
       "    <tr>\n",
       "      <th>DiffDAteTr2</th>\n",
       "      <td>0.070107</td>\n",
       "      <td>0.063832</td>\n",
       "      <td>0.038687</td>\n",
       "      <td>0.018390</td>\n",
       "      <td>-0.588348</td>\n",
       "      <td>0.134805</td>\n",
       "      <td>0.092490</td>\n",
       "      <td>0.411004</td>\n",
       "      <td>-0.012700</td>\n",
       "      <td>-0.061982</td>\n",
       "      <td>-0.040494</td>\n",
       "      <td>-0.195227</td>\n",
       "      <td>0.582816</td>\n",
       "      <td>1.000000</td>\n",
       "      <td>0.872838</td>\n",
       "      <td>-0.027970</td>\n",
       "      <td>-0.227941</td>\n",
       "      <td>0.010793</td>\n",
       "    </tr>\n",
       "    <tr>\n",
       "      <th>DiffDAteTr3</th>\n",
       "      <td>0.069027</td>\n",
       "      <td>0.060534</td>\n",
       "      <td>0.046465</td>\n",
       "      <td>0.027146</td>\n",
       "      <td>-0.682462</td>\n",
       "      <td>0.156178</td>\n",
       "      <td>0.094741</td>\n",
       "      <td>0.473758</td>\n",
       "      <td>-0.014402</td>\n",
       "      <td>-0.074023</td>\n",
       "      <td>-0.020851</td>\n",
       "      <td>-0.095963</td>\n",
       "      <td>0.495857</td>\n",
       "      <td>0.872838</td>\n",
       "      <td>1.000000</td>\n",
       "      <td>0.023163</td>\n",
       "      <td>-0.096909</td>\n",
       "      <td>0.007449</td>\n",
       "    </tr>\n",
       "    <tr>\n",
       "      <th>CA3TRetMtt</th>\n",
       "      <td>0.917877</td>\n",
       "      <td>0.417222</td>\n",
       "      <td>0.417042</td>\n",
       "      <td>0.395700</td>\n",
       "      <td>-0.048663</td>\n",
       "      <td>0.369111</td>\n",
       "      <td>0.060221</td>\n",
       "      <td>0.109517</td>\n",
       "      <td>-0.004659</td>\n",
       "      <td>-0.028716</td>\n",
       "      <td>0.020489</td>\n",
       "      <td>0.080875</td>\n",
       "      <td>-0.125175</td>\n",
       "      <td>-0.027970</td>\n",
       "      <td>0.023163</td>\n",
       "      <td>1.000000</td>\n",
       "      <td>0.451810</td>\n",
       "      <td>0.006489</td>\n",
       "    </tr>\n",
       "    <tr>\n",
       "      <th>CA3TR</th>\n",
       "      <td>0.060658</td>\n",
       "      <td>0.039216</td>\n",
       "      <td>0.101225</td>\n",
       "      <td>0.119128</td>\n",
       "      <td>0.028033</td>\n",
       "      <td>0.013116</td>\n",
       "      <td>-0.026433</td>\n",
       "      <td>-0.024072</td>\n",
       "      <td>-0.001027</td>\n",
       "      <td>-0.008466</td>\n",
       "      <td>0.062697</td>\n",
       "      <td>0.270879</td>\n",
       "      <td>-0.480995</td>\n",
       "      <td>-0.227941</td>\n",
       "      <td>-0.096909</td>\n",
       "      <td>0.451810</td>\n",
       "      <td>1.000000</td>\n",
       "      <td>-0.014165</td>\n",
       "    </tr>\n",
       "    <tr>\n",
       "      <th>Heure</th>\n",
       "      <td>0.013562</td>\n",
       "      <td>0.003742</td>\n",
       "      <td>0.001619</td>\n",
       "      <td>0.000076</td>\n",
       "      <td>-0.006254</td>\n",
       "      <td>0.000183</td>\n",
       "      <td>-0.094061</td>\n",
       "      <td>0.023424</td>\n",
       "      <td>0.008144</td>\n",
       "      <td>0.032082</td>\n",
       "      <td>-0.007314</td>\n",
       "      <td>0.002466</td>\n",
       "      <td>0.009361</td>\n",
       "      <td>0.010793</td>\n",
       "      <td>0.007449</td>\n",
       "      <td>0.006489</td>\n",
       "      <td>-0.014165</td>\n",
       "      <td>1.000000</td>\n",
       "    </tr>\n",
       "  </tbody>\n",
       "</table>\n",
       "</div>"
      ],
      "text/plain": [
       "                 MontAnt  VerifiAnceCPT1  VerifiAnceCPT2  VerifiAnceCPT3  \\\n",
       "MontAnt         1.000000        0.449371        0.421585        0.389742   \n",
       "VerifiAnceCPT1  0.449371        1.000000        0.939030        0.868696   \n",
       "VerifiAnceCPT2  0.421585        0.939030        1.000000        0.934981   \n",
       "VerifiAnceCPT3  0.389742        0.868696        0.934981        1.000000   \n",
       "D2CB           -0.066918       -0.067262       -0.061832       -0.053551   \n",
       "ScoringFP1      0.407152        0.068670        0.064161        0.053178   \n",
       "ScoringFP2      0.079138        0.128181        0.106889        0.091850   \n",
       "ScoringFP3      0.133244        0.046132        0.041338        0.027721   \n",
       "TAuxImpNb_RB   -0.004756       -0.006053       -0.005410       -0.005314   \n",
       "TAuxImpNB_CPM  -0.028364       -0.040806       -0.036128       -0.034163   \n",
       "EcArtNumCheq   -0.004967       -0.004542        0.002945        0.006493   \n",
       "NbrMAgAsin3J   -0.030014       -0.010928        0.013190        0.020101   \n",
       "DiffDAteTr1     0.073920        0.062271        0.015726       -0.001600   \n",
       "DiffDAteTr2     0.070107        0.063832        0.038687        0.018390   \n",
       "DiffDAteTr3     0.069027        0.060534        0.046465        0.027146   \n",
       "CA3TRetMtt      0.917877        0.417222        0.417042        0.395700   \n",
       "CA3TR           0.060658        0.039216        0.101225        0.119128   \n",
       "Heure           0.013562        0.003742        0.001619        0.000076   \n",
       "\n",
       "                    D2CB  ScoringFP1  ScoringFP2  ScoringFP3  TAuxImpNb_RB  \\\n",
       "MontAnt        -0.066918    0.407152    0.079138    0.133244     -0.004756   \n",
       "VerifiAnceCPT1 -0.067262    0.068670    0.128181    0.046132     -0.006053   \n",
       "VerifiAnceCPT2 -0.061832    0.064161    0.106889    0.041338     -0.005410   \n",
       "VerifiAnceCPT3 -0.053551    0.053178    0.091850    0.027721     -0.005314   \n",
       "D2CB            1.000000   -0.117004   -0.148568   -0.357932      0.006847   \n",
       "ScoringFP1     -0.117004    1.000000   -0.008655    0.367638     -0.001596   \n",
       "ScoringFP2     -0.148568   -0.008655    1.000000   -0.027542     -0.008154   \n",
       "ScoringFP3     -0.357932    0.367638   -0.027542    1.000000      0.001811   \n",
       "TAuxImpNb_RB    0.006847   -0.001596   -0.008154    0.001811      1.000000   \n",
       "TAuxImpNB_CPM   0.049810   -0.005168   -0.061697    0.002308      0.106220   \n",
       "EcArtNumCheq    0.019564   -0.003334   -0.002616   -0.010204     -0.000498   \n",
       "NbrMAgAsin3J    0.069176   -0.014808   -0.029744   -0.043327      0.001068   \n",
       "DiffDAteTr1    -0.349217    0.081406    0.082637    0.251666     -0.006776   \n",
       "DiffDAteTr2    -0.588348    0.134805    0.092490    0.411004     -0.012700   \n",
       "DiffDAteTr3    -0.682462    0.156178    0.094741    0.473758     -0.014402   \n",
       "CA3TRetMtt     -0.048663    0.369111    0.060221    0.109517     -0.004659   \n",
       "CA3TR           0.028033    0.013116   -0.026433   -0.024072     -0.001027   \n",
       "Heure          -0.006254    0.000183   -0.094061    0.023424      0.008144   \n",
       "\n",
       "                TAuxImpNB_CPM  EcArtNumCheq  NbrMAgAsin3J  DiffDAteTr1  \\\n",
       "MontAnt             -0.028364     -0.004967     -0.030014     0.073920   \n",
       "VerifiAnceCPT1      -0.040806     -0.004542     -0.010928     0.062271   \n",
       "VerifiAnceCPT2      -0.036128      0.002945      0.013190     0.015726   \n",
       "VerifiAnceCPT3      -0.034163      0.006493      0.020101    -0.001600   \n",
       "D2CB                 0.049810      0.019564      0.069176    -0.349217   \n",
       "ScoringFP1          -0.005168     -0.003334     -0.014808     0.081406   \n",
       "ScoringFP2          -0.061697     -0.002616     -0.029744     0.082637   \n",
       "ScoringFP3           0.002308     -0.010204     -0.043327     0.251666   \n",
       "TAuxImpNb_RB         0.106220     -0.000498      0.001068    -0.006776   \n",
       "TAuxImpNB_CPM        1.000000     -0.001987     -0.007761    -0.027373   \n",
       "EcArtNumCheq        -0.001987      1.000000      0.057113    -0.085630   \n",
       "NbrMAgAsin3J        -0.007761      0.057113      1.000000    -0.491067   \n",
       "DiffDAteTr1         -0.027373     -0.085630     -0.491067     1.000000   \n",
       "DiffDAteTr2         -0.061982     -0.040494     -0.195227     0.582816   \n",
       "DiffDAteTr3         -0.074023     -0.020851     -0.095963     0.495857   \n",
       "CA3TRetMtt          -0.028716      0.020489      0.080875    -0.125175   \n",
       "CA3TR               -0.008466      0.062697      0.270879    -0.480995   \n",
       "Heure                0.032082     -0.007314      0.002466     0.009361   \n",
       "\n",
       "                DiffDAteTr2  DiffDAteTr3  CA3TRetMtt     CA3TR     Heure  \n",
       "MontAnt            0.070107     0.069027    0.917877  0.060658  0.013562  \n",
       "VerifiAnceCPT1     0.063832     0.060534    0.417222  0.039216  0.003742  \n",
       "VerifiAnceCPT2     0.038687     0.046465    0.417042  0.101225  0.001619  \n",
       "VerifiAnceCPT3     0.018390     0.027146    0.395700  0.119128  0.000076  \n",
       "D2CB              -0.588348    -0.682462   -0.048663  0.028033 -0.006254  \n",
       "ScoringFP1         0.134805     0.156178    0.369111  0.013116  0.000183  \n",
       "ScoringFP2         0.092490     0.094741    0.060221 -0.026433 -0.094061  \n",
       "ScoringFP3         0.411004     0.473758    0.109517 -0.024072  0.023424  \n",
       "TAuxImpNb_RB      -0.012700    -0.014402   -0.004659 -0.001027  0.008144  \n",
       "TAuxImpNB_CPM     -0.061982    -0.074023   -0.028716 -0.008466  0.032082  \n",
       "EcArtNumCheq      -0.040494    -0.020851    0.020489  0.062697 -0.007314  \n",
       "NbrMAgAsin3J      -0.195227    -0.095963    0.080875  0.270879  0.002466  \n",
       "DiffDAteTr1        0.582816     0.495857   -0.125175 -0.480995  0.009361  \n",
       "DiffDAteTr2        1.000000     0.872838   -0.027970 -0.227941  0.010793  \n",
       "DiffDAteTr3        0.872838     1.000000    0.023163 -0.096909  0.007449  \n",
       "CA3TRetMtt        -0.027970     0.023163    1.000000  0.451810  0.006489  \n",
       "CA3TR             -0.227941    -0.096909    0.451810  1.000000 -0.014165  \n",
       "Heure              0.010793     0.007449    0.006489 -0.014165  1.000000  "
      ]
     },
     "execution_count": 19,
     "metadata": {},
     "output_type": "execute_result"
    }
   ],
   "source": [
    "dfcorr.corr()"
   ]
  },
  {
   "cell_type": "markdown",
   "metadata": {},
   "source": [
    "Visualisons ces corrélations dans une 'heat map' avec l'outil disponible avec seaborn."
   ]
  },
  {
   "cell_type": "code",
   "execution_count": 20,
   "metadata": {},
   "outputs": [
    {
     "data": {
      "image/png": "[encoded data removed]",
      "text/plain": [
       "<Figure size 1440x1080 with 2 Axes>"
      ]
     },
     "metadata": {},
     "output_type": "display_data"
    }
   ],
   "source": [
    "# librairies\n",
    "import matplotlib as mpl\n",
    "import matplotlib.pyplot as plt\n",
    "mpl.style.use(['Solarize_Light2'])\n",
    "\n",
    "import seaborn as sns\n",
    "correlation_mat = dfcorr.corr()\n",
    "fig = plt.figure(figsize=(20, 15))\n",
    "sns.heatmap(correlation_mat, annot = True)\n",
    "plt.show()"
   ]
  },
  {
   "cell_type": "markdown",
   "metadata": {},
   "source": [
    "On remarque que les coefficients de corrélation importants sont des variables qui ont un lien évident entre elles. Comme par exemple, les scores des variables VérifianceCPT1, VérifianceCPT2 et VérifianceCPT3. Autrement il n'y a pas de corrélation évidente entre les variables."
   ]
  },
  {
   "cell_type": "markdown",
   "metadata": {},
   "source": [
    "### Binarisation des variables catégorielles"
   ]
  },
  {
   "cell_type": "markdown",
   "metadata": {},
   "source": [
    "Seule une variable catégorielle est présente dans le jeu de données \"CodeDecision\". Nous allons créer des variables à partir de ses modalités."
   ]
  },
  {
   "cell_type": "code",
   "execution_count": 21,
   "metadata": {},
   "outputs": [
    {
     "data": {
      "text/html": [
       "<div>\n",
       "<style scoped>\n",
       "    .dataframe tbody tr th:only-of-type {\n",
       "        vertical-align: middle;\n",
       "    }\n",
       "\n",
       "    .dataframe tbody tr th {\n",
       "        vertical-align: top;\n",
       "    }\n",
       "\n",
       "    .dataframe thead th {\n",
       "        text-align: right;\n",
       "    }\n",
       "</style>\n",
       "<table border=\"1\" class=\"dataframe\">\n",
       "  <thead>\n",
       "    <tr style=\"text-align: right;\">\n",
       "      <th></th>\n",
       "      <th>CodeDecision_0</th>\n",
       "      <th>CodeDecision_2</th>\n",
       "      <th>CodeDecision_3</th>\n",
       "    </tr>\n",
       "  </thead>\n",
       "  <tbody>\n",
       "    <tr>\n",
       "      <th>0</th>\n",
       "      <td>1</td>\n",
       "      <td>0</td>\n",
       "      <td>0</td>\n",
       "    </tr>\n",
       "    <tr>\n",
       "      <th>1</th>\n",
       "      <td>1</td>\n",
       "      <td>0</td>\n",
       "      <td>0</td>\n",
       "    </tr>\n",
       "    <tr>\n",
       "      <th>2</th>\n",
       "      <td>1</td>\n",
       "      <td>0</td>\n",
       "      <td>0</td>\n",
       "    </tr>\n",
       "    <tr>\n",
       "      <th>3</th>\n",
       "      <td>1</td>\n",
       "      <td>0</td>\n",
       "      <td>0</td>\n",
       "    </tr>\n",
       "    <tr>\n",
       "      <th>4</th>\n",
       "      <td>1</td>\n",
       "      <td>0</td>\n",
       "      <td>0</td>\n",
       "    </tr>\n",
       "  </tbody>\n",
       "</table>\n",
       "</div>"
      ],
      "text/plain": [
       "   CodeDecision_0  CodeDecision_2  CodeDecision_3\n",
       "0               1               0               0\n",
       "1               1               0               0\n",
       "2               1               0               0\n",
       "3               1               0               0\n",
       "4               1               0               0"
      ]
     },
     "execution_count": 21,
     "metadata": {},
     "output_type": "execute_result"
    }
   ],
   "source": [
    "# Binarisation de la variable CodeDecision\n",
    "CodeDecision_bin = pd.get_dummies(df.CodeDecision)\n",
    "CodeDecision_bin.rename(columns={0:\"CodeDecision_0\", 2:\"CodeDecision_2\", 3:\"CodeDecision_3\"}, inplace=True)\n",
    "CodeDecision_bin.head()"
   ]
  },
  {
   "cell_type": "code",
   "execution_count": 22,
   "metadata": {},
   "outputs": [
    {
     "data": {
      "text/html": [
       "<div>\n",
       "<style scoped>\n",
       "    .dataframe tbody tr th:only-of-type {\n",
       "        vertical-align: middle;\n",
       "    }\n",
       "\n",
       "    .dataframe tbody tr th {\n",
       "        vertical-align: top;\n",
       "    }\n",
       "\n",
       "    .dataframe thead th {\n",
       "        text-align: right;\n",
       "    }\n",
       "</style>\n",
       "<table border=\"1\" class=\"dataframe\">\n",
       "  <thead>\n",
       "    <tr style=\"text-align: right;\">\n",
       "      <th></th>\n",
       "      <th>ZIBZIN</th>\n",
       "      <th>IDAvisAutorisAtionCheque</th>\n",
       "      <th>MontAnt</th>\n",
       "      <th>DAteTrAnsAction</th>\n",
       "      <th>VerifiAnceCPT1</th>\n",
       "      <th>VerifiAnceCPT2</th>\n",
       "      <th>VerifiAnceCPT3</th>\n",
       "      <th>D2CB</th>\n",
       "      <th>ScoringFP1</th>\n",
       "      <th>ScoringFP2</th>\n",
       "      <th>...</th>\n",
       "      <th>DiffDAteTr1</th>\n",
       "      <th>DiffDAteTr2</th>\n",
       "      <th>DiffDAteTr3</th>\n",
       "      <th>CA3TRetMtt</th>\n",
       "      <th>CA3TR</th>\n",
       "      <th>Heure</th>\n",
       "      <th>FlAgImpAye</th>\n",
       "      <th>CodeDecision_0</th>\n",
       "      <th>CodeDecision_2</th>\n",
       "      <th>CodeDecision_3</th>\n",
       "    </tr>\n",
       "  </thead>\n",
       "  <tbody>\n",
       "    <tr>\n",
       "      <th>0</th>\n",
       "      <td>A034010041908012010710730</td>\n",
       "      <td>71051532</td>\n",
       "      <td>40.17</td>\n",
       "      <td>2016-03-21 07:47:38</td>\n",
       "      <td>1</td>\n",
       "      <td>1</td>\n",
       "      <td>1</td>\n",
       "      <td>535</td>\n",
       "      <td>0.0</td>\n",
       "      <td>0.0</td>\n",
       "      <td>...</td>\n",
       "      <td>4.0</td>\n",
       "      <td>4.0</td>\n",
       "      <td>4.0</td>\n",
       "      <td>40.17</td>\n",
       "      <td>0.0</td>\n",
       "      <td>28058</td>\n",
       "      <td>0</td>\n",
       "      <td>1</td>\n",
       "      <td>0</td>\n",
       "      <td>0</td>\n",
       "    </tr>\n",
       "    <tr>\n",
       "      <th>1</th>\n",
       "      <td>A035010041908006493331734</td>\n",
       "      <td>71051533</td>\n",
       "      <td>20.00</td>\n",
       "      <td>2016-03-21 08:04:57</td>\n",
       "      <td>0</td>\n",
       "      <td>0</td>\n",
       "      <td>0</td>\n",
       "      <td>358</td>\n",
       "      <td>0.0</td>\n",
       "      <td>0.0</td>\n",
       "      <td>...</td>\n",
       "      <td>4.0</td>\n",
       "      <td>4.0</td>\n",
       "      <td>4.0</td>\n",
       "      <td>20.00</td>\n",
       "      <td>0.0</td>\n",
       "      <td>29097</td>\n",
       "      <td>0</td>\n",
       "      <td>1</td>\n",
       "      <td>0</td>\n",
       "      <td>0</td>\n",
       "    </tr>\n",
       "    <tr>\n",
       "      <th>2</th>\n",
       "      <td>A013010003908005150136747</td>\n",
       "      <td>71051534</td>\n",
       "      <td>35.00</td>\n",
       "      <td>2016-03-21 08:06:45</td>\n",
       "      <td>0</td>\n",
       "      <td>0</td>\n",
       "      <td>0</td>\n",
       "      <td>199</td>\n",
       "      <td>0.0</td>\n",
       "      <td>0.0</td>\n",
       "      <td>...</td>\n",
       "      <td>4.0</td>\n",
       "      <td>4.0</td>\n",
       "      <td>4.0</td>\n",
       "      <td>35.00</td>\n",
       "      <td>0.0</td>\n",
       "      <td>29205</td>\n",
       "      <td>0</td>\n",
       "      <td>1</td>\n",
       "      <td>0</td>\n",
       "      <td>0</td>\n",
       "    </tr>\n",
       "    <tr>\n",
       "      <th>3</th>\n",
       "      <td>A013010041908025639221029</td>\n",
       "      <td>71051536</td>\n",
       "      <td>20.00</td>\n",
       "      <td>2016-03-21 08:11:38</td>\n",
       "      <td>0</td>\n",
       "      <td>0</td>\n",
       "      <td>0</td>\n",
       "      <td>38</td>\n",
       "      <td>0.0</td>\n",
       "      <td>0.0</td>\n",
       "      <td>...</td>\n",
       "      <td>4.0</td>\n",
       "      <td>4.0</td>\n",
       "      <td>4.0</td>\n",
       "      <td>20.00</td>\n",
       "      <td>0.0</td>\n",
       "      <td>29498</td>\n",
       "      <td>0</td>\n",
       "      <td>1</td>\n",
       "      <td>0</td>\n",
       "      <td>0</td>\n",
       "    </tr>\n",
       "    <tr>\n",
       "      <th>4</th>\n",
       "      <td>A013010003908005556100283</td>\n",
       "      <td>71051538</td>\n",
       "      <td>20.00</td>\n",
       "      <td>2016-03-21 08:17:11</td>\n",
       "      <td>0</td>\n",
       "      <td>0</td>\n",
       "      <td>0</td>\n",
       "      <td>26</td>\n",
       "      <td>0.0</td>\n",
       "      <td>0.0</td>\n",
       "      <td>...</td>\n",
       "      <td>4.0</td>\n",
       "      <td>4.0</td>\n",
       "      <td>4.0</td>\n",
       "      <td>20.00</td>\n",
       "      <td>0.0</td>\n",
       "      <td>29831</td>\n",
       "      <td>0</td>\n",
       "      <td>1</td>\n",
       "      <td>0</td>\n",
       "      <td>0</td>\n",
       "    </tr>\n",
       "  </tbody>\n",
       "</table>\n",
       "<p>5 rows × 25 columns</p>\n",
       "</div>"
      ],
      "text/plain": [
       "                      ZIBZIN  IDAvisAutorisAtionCheque  MontAnt  \\\n",
       "0  A034010041908012010710730                  71051532    40.17   \n",
       "1  A035010041908006493331734                  71051533    20.00   \n",
       "2  A013010003908005150136747                  71051534    35.00   \n",
       "3  A013010041908025639221029                  71051536    20.00   \n",
       "4  A013010003908005556100283                  71051538    20.00   \n",
       "\n",
       "       DAteTrAnsAction  VerifiAnceCPT1  VerifiAnceCPT2  VerifiAnceCPT3  D2CB  \\\n",
       "0  2016-03-21 07:47:38               1               1               1   535   \n",
       "1  2016-03-21 08:04:57               0               0               0   358   \n",
       "2  2016-03-21 08:06:45               0               0               0   199   \n",
       "3  2016-03-21 08:11:38               0               0               0    38   \n",
       "4  2016-03-21 08:17:11               0               0               0    26   \n",
       "\n",
       "   ScoringFP1  ScoringFP2  ...  DiffDAteTr1  DiffDAteTr2  DiffDAteTr3  \\\n",
       "0         0.0         0.0  ...          4.0          4.0          4.0   \n",
       "1         0.0         0.0  ...          4.0          4.0          4.0   \n",
       "2         0.0         0.0  ...          4.0          4.0          4.0   \n",
       "3         0.0         0.0  ...          4.0          4.0          4.0   \n",
       "4         0.0         0.0  ...          4.0          4.0          4.0   \n",
       "\n",
       "   CA3TRetMtt  CA3TR  Heure  FlAgImpAye  CodeDecision_0  CodeDecision_2  \\\n",
       "0       40.17    0.0  28058           0               1               0   \n",
       "1       20.00    0.0  29097           0               1               0   \n",
       "2       35.00    0.0  29205           0               1               0   \n",
       "3       20.00    0.0  29498           0               1               0   \n",
       "4       20.00    0.0  29831           0               1               0   \n",
       "\n",
       "   CodeDecision_3  \n",
       "0               0  \n",
       "1               0  \n",
       "2               0  \n",
       "3               0  \n",
       "4               0  \n",
       "\n",
       "[5 rows x 25 columns]"
      ]
     },
     "execution_count": 22,
     "metadata": {},
     "output_type": "execute_result"
    }
   ],
   "source": [
    "# Remplacer la variables CodeDecision par la binarisation de ses modalités\n",
    "df_bin = df.drop(['CodeDecision'], axis=1)\n",
    "df_bin = pd.concat([df_bin,CodeDecision_bin], axis=1, join='inner')\n",
    "df_bin.head()"
   ]
  },
  {
   "cell_type": "markdown",
   "metadata": {},
   "source": [
    "### Exploration par mois des données"
   ]
  },
  {
   "cell_type": "markdown",
   "metadata": {},
   "source": [
    "Nous cherchons ensuite à savoir si la période influence les transactions et les variables qui les caractérisent."
   ]
  },
  {
   "cell_type": "code",
   "execution_count": 23,
   "metadata": {},
   "outputs": [],
   "source": [
    "# Création d'une nouvelle variable mois\n",
    "df2 = df\n",
    "df2['month'] = pd.DatetimeIndex(df['DAteTrAnsAction']).month\n",
    "refus2 = df2[df2['FlAgImpAye'] == 1]\n",
    "accept2 = df2[df2['FlAgImpAye'] == 0]"
   ]
  },
  {
   "cell_type": "markdown",
   "metadata": {},
   "source": [
    "MONTANT : Léger pic en avril puis plutôt stable de juin à septembre pour les montants de transactions."
   ]
  },
  {
   "cell_type": "code",
   "execution_count": 24,
   "metadata": {},
   "outputs": [
    {
     "data": {
      "image/png": "[encoded data removed]",
      "text/plain": [
       "<Figure size 1080x504 with 1 Axes>"
      ]
     },
     "metadata": {},
     "output_type": "display_data"
    }
   ],
   "source": [
    "#plot data\n",
    "import matplotlib.pyplot as plt\n",
    "fig, ax = plt.subplots(figsize=(15,7))\n",
    "x = df2.month.unique()\n",
    "y = refus2.groupby(['month']).mean()['MontAnt']\n",
    "plt.bar(x,y)\n",
    "xlocs, xlabs = plt.xticks()\n",
    "for i, v in enumerate(y):\n",
    "    plt.text(xlocs[i] + .8, v + 1, str(round(v,2)))"
   ]
  },
  {
   "cell_type": "markdown",
   "metadata": {},
   "source": [
    "SCORING FP1"
   ]
  },
  {
   "cell_type": "code",
   "execution_count": 25,
   "metadata": {},
   "outputs": [
    {
     "data": {
      "image/png": "[encoded data removed]",
      "text/plain": [
       "<Figure size 1080x504 with 1 Axes>"
      ]
     },
     "metadata": {},
     "output_type": "display_data"
    }
   ],
   "source": [
    "fig, ax = plt.subplots(figsize=(15,7))\n",
    "y = refus2.groupby(['month']).mean()['ScoringFP1']\n",
    "plt.bar(x,y)\n",
    "xlocs, xlabs = plt.xticks()\n",
    "for i, v in enumerate(y):\n",
    "    plt.text(xlocs[i] + .8, v + 1, str(round(v,2)))"
   ]
  },
  {
   "cell_type": "markdown",
   "metadata": {},
   "source": [
    "SCORING FP2"
   ]
  },
  {
   "cell_type": "code",
   "execution_count": 26,
   "metadata": {},
   "outputs": [
    {
     "data": {
      "image/png": "[encoded data removed]",
      "text/plain": [
       "<Figure size 1080x504 with 1 Axes>"
      ]
     },
     "metadata": {},
     "output_type": "display_data"
    }
   ],
   "source": [
    "fig, ax = plt.subplots(figsize=(15,7))\n",
    "y = refus2.groupby(['month']).mean()['ScoringFP2']\n",
    "plt.bar(x,y)\n",
    "xlocs, xlabs = plt.xticks()\n",
    "for i, v in enumerate(y):\n",
    "    plt.text(xlocs[i] + .8, v - .25, str(round(v,2)))"
   ]
  },
  {
   "cell_type": "markdown",
   "metadata": {},
   "source": [
    "SCORING FP3"
   ]
  },
  {
   "cell_type": "code",
   "execution_count": 27,
   "metadata": {},
   "outputs": [
    {
     "data": {
      "image/png": "[encoded data removed]",
      "text/plain": [
       "<Figure size 1080x504 with 1 Axes>"
      ]
     },
     "metadata": {},
     "output_type": "display_data"
    }
   ],
   "source": [
    "fig, ax = plt.subplots(figsize=(15,7))\n",
    "y = refus2.groupby(['month']).mean()['ScoringFP3']\n",
    "plt.bar(x,y)\n",
    "xlocs, xlabs = plt.xticks()\n",
    "for i, v in enumerate(y):\n",
    "    plt.text(xlocs[i] + .8, v + .01, str(round(v,2)))"
   ]
  },
  {
   "cell_type": "markdown",
   "metadata": {},
   "source": [
    "TAUX IMPAYES DANS LA REGION"
   ]
  },
  {
   "cell_type": "code",
   "execution_count": 28,
   "metadata": {},
   "outputs": [
    {
     "data": {
      "image/png": "[encoded data removed]",
      "text/plain": [
       "<Figure size 1080x504 with 1 Axes>"
      ]
     },
     "metadata": {},
     "output_type": "display_data"
    }
   ],
   "source": [
    "fig, ax = plt.subplots(figsize=(15,7))\n",
    "y = refus2.groupby(['month']).mean()['TAuxImpNb_RB']\n",
    "plt.bar(x,y)\n",
    "xlocs, xlabs = plt.xticks()\n",
    "for i, v in enumerate(y):\n",
    "    plt.text(xlocs[i] + .8, v + 1, str(round(v,2)))"
   ]
  },
  {
   "cell_type": "markdown",
   "metadata": {},
   "source": [
    "NOMBRE DE TRANSACTIONS FRAUDULEUSES : les mois de mars et septembre ne font pas 30 jours dans on ne peut pas interpréter leur nombre moins important. Les autres mois sont plutôt stables en nombre. Pas de tendance notable."
   ]
  },
  {
   "cell_type": "code",
   "execution_count": 29,
   "metadata": {},
   "outputs": [
    {
     "data": {
      "image/png": "[encoded data removed]",
      "text/plain": [
       "<Figure size 1080x504 with 1 Axes>"
      ]
     },
     "metadata": {},
     "output_type": "display_data"
    }
   ],
   "source": [
    "fig, ax = plt.subplots(figsize=(15,7))\n",
    "y = refus2.groupby(['month']).count()['FlAgImpAye']\n",
    "plt.bar(x,y)\n",
    "xlocs, xlabs = plt.xticks()\n",
    "for i, v in enumerate(y):\n",
    "    plt.text(xlocs[i] + .9, v + 10, str(round(v,2)))"
   ]
  },
  {
   "cell_type": "markdown",
   "metadata": {},
   "source": [
    "DIFFDATATR1"
   ]
  },
  {
   "cell_type": "code",
   "execution_count": 30,
   "metadata": {},
   "outputs": [
    {
     "data": {
      "image/png": "[encoded data removed]",
      "text/plain": [
       "<Figure size 1080x504 with 1 Axes>"
      ]
     },
     "metadata": {},
     "output_type": "display_data"
    }
   ],
   "source": [
    "fig, ax = plt.subplots(figsize=(15,7))\n",
    "y = refus2.groupby(['month']).mean()['DiffDAteTr1']\n",
    "plt.bar(x,y)\n",
    "xlocs, xlabs = plt.xticks()\n",
    "for i, v in enumerate(y):\n",
    "    plt.text(xlocs[i] + .9, v + 0.05, str(round(v,2)))"
   ]
  },
  {
   "cell_type": "markdown",
   "metadata": {},
   "source": [
    "DIFFDATATR2"
   ]
  },
  {
   "cell_type": "code",
   "execution_count": 31,
   "metadata": {},
   "outputs": [
    {
     "data": {
      "image/png": "[encoded data removed]",
      "text/plain": [
       "<Figure size 1080x504 with 1 Axes>"
      ]
     },
     "metadata": {},
     "output_type": "display_data"
    }
   ],
   "source": [
    "fig, ax = plt.subplots(figsize=(15,7))\n",
    "y = refus2.groupby(['month']).mean()['DiffDAteTr2']\n",
    "plt.bar(x,y)\n",
    "xlocs, xlabs = plt.xticks()\n",
    "for i, v in enumerate(y):\n",
    "    plt.text(xlocs[i] + .9, v + 0.05, str(round(v,2)))"
   ]
  },
  {
   "cell_type": "markdown",
   "metadata": {},
   "source": [
    "DIFFDATATR3"
   ]
  },
  {
   "cell_type": "code",
   "execution_count": 32,
   "metadata": {},
   "outputs": [
    {
     "data": {
      "image/png": "[encoded data removed]",
      "text/plain": [
       "<Figure size 1080x504 with 1 Axes>"
      ]
     },
     "metadata": {},
     "output_type": "display_data"
    }
   ],
   "source": [
    "fig, ax = plt.subplots(figsize=(15,7))\n",
    "y = refus2.groupby(['month']).mean()['DiffDAteTr3']\n",
    "plt.bar(x,y)\n",
    "xlocs, xlabs = plt.xticks()\n",
    "for i, v in enumerate(y):\n",
    "    plt.text(xlocs[i] + .9, v + 0.05, str(round(v,2)))"
   ]
  },
  {
   "cell_type": "markdown",
   "metadata": {},
   "source": [
    "VerifiAnceCPT3"
   ]
  },
  {
   "cell_type": "code",
   "execution_count": 33,
   "metadata": {},
   "outputs": [
    {
     "data": {
      "image/png": "[encoded data removed]",
      "text/plain": [
       "<Figure size 1080x504 with 1 Axes>"
      ]
     },
     "metadata": {},
     "output_type": "display_data"
    }
   ],
   "source": [
    "fig, ax = plt.subplots(figsize=(15,7))\n",
    "y = refus2.groupby(['month']).mean()['VerifiAnceCPT3']\n",
    "plt.bar(x,y)\n",
    "xlocs, xlabs = plt.xticks()\n",
    "for i, v in enumerate(y):\n",
    "    plt.text(xlocs[i] + .9, v + 0.05, str(round(v,2)))"
   ]
  },
  {
   "cell_type": "markdown",
   "metadata": {},
   "source": [
    "### Définitions des bases d'apprentissage et de test"
   ]
  },
  {
   "cell_type": "markdown",
   "metadata": {},
   "source": [
    "Nous définissons ci dessous les bases d'apprentissage et de test. Nous optons pour une base de test avec le dernier mois de transactions et une base d'apprentissage avec le mois précedent de transactions. Un seul moi pour l'apprentissage pour optimiser les temps de calcul des différentes algorithmes."
   ]
  },
  {
   "cell_type": "code",
   "execution_count": 34,
   "metadata": {},
   "outputs": [],
   "source": [
    "split_date_test ='2016-09-20 00:00:01'\n",
    "split_date_small ='2016-08-15 00:00:01'"
   ]
  },
  {
   "cell_type": "code",
   "execution_count": 35,
   "metadata": {},
   "outputs": [],
   "source": [
    "# Echantillon test\n",
    "df_test = df_bin.loc[df_bin['DAteTrAnsAction'] > split_date_test]"
   ]
  },
  {
   "cell_type": "code",
   "execution_count": 42,
   "metadata": {},
   "outputs": [],
   "source": [
    "# Echantillons apprentissage\n",
    "df_train_small = df_bin.loc[(df_bin['DAteTrAnsAction'] > split_date_small)&(df_bin['DAteTrAnsAction'] <= split_date_test)]"
   ]
  },
  {
   "cell_type": "code",
   "execution_count": 43,
   "metadata": {},
   "outputs": [
    {
     "name": "stdout",
     "output_type": "stream",
     "text": [
      "(339152, 25)\n",
      "(264143, 25)\n"
     ]
    }
   ],
   "source": [
    "#print(df_train_large.shape)\n",
    "print(df_train_small.shape)\n",
    "print(df_test.shape)"
   ]
  },
  {
   "cell_type": "markdown",
   "metadata": {},
   "source": [
    "Nous retirons certaines variables du jeu de données que nous ne jugeons pas utile."
   ]
  },
  {
   "cell_type": "code",
   "execution_count": 44,
   "metadata": {},
   "outputs": [],
   "source": [
    "# Construisons nos sets d'apprentissage de base\n",
    "X_train = df_train_small.drop(['ZIBZIN', 'IDAvisAutorisAtionCheque','DAteTrAnsAction','FlAgImpAye','ScoringFP3','NbrMAgAsin3J','DiffDAteTr1','DiffDAteTr2','DiffDAteTr3','Heure'], axis = 1)\n",
    "X_test = df_test.drop(['ZIBZIN', 'IDAvisAutorisAtionCheque','DAteTrAnsAction','FlAgImpAye','ScoringFP3','NbrMAgAsin3J','DiffDAteTr1','DiffDAteTr2','DiffDAteTr3','Heure'], axis = 1)\n",
    "y_train = df_train_small['FlAgImpAye']\n",
    "y_test = df_test['FlAgImpAye']"
   ]
  },
  {
   "cell_type": "code",
   "execution_count": 45,
   "metadata": {},
   "outputs": [
    {
     "name": "stdout",
     "output_type": "stream",
     "text": [
      "(339152, 15)\n",
      "(264143,)\n"
     ]
    }
   ],
   "source": [
    "print(X_train.shape)\n",
    "print(y_test.shape)"
   ]
  },
  {
   "cell_type": "markdown",
   "metadata": {},
   "source": [
    " "
   ]
  },
  {
   "cell_type": "markdown",
   "metadata": {},
   "source": [
    "***"
   ]
  },
  {
   "cell_type": "markdown",
   "metadata": {},
   "source": [
    "## 2. RE SAMPLING ET PRE PROCESS"
   ]
  },
  {
   "cell_type": "markdown",
   "metadata": {},
   "source": [
    "### Algorithmes d'oversampling et d'undersampling"
   ]
  },
  {
   "cell_type": "markdown",
   "metadata": {},
   "source": [
    "Nous décidons de tester ici plusieurs stratégies :\n",
    "- oversampling SMOTE 10/90 (1)\n",
    "- oversampling SMOTE 5/95 + undersampling aléatoire 1:9 (2)\n",
    "- oversampling SMOTE 30/70 + undersampling aléatoire 1:1 (3)"
   ]
  },
  {
   "cell_type": "markdown",
   "metadata": {},
   "source": [
    "Vérifions le taux de fraude sur l'échantillon d'apprentissage tout d'abord"
   ]
  },
  {
   "cell_type": "code",
   "execution_count": 46,
   "metadata": {},
   "outputs": [
    {
     "name": "stdout",
     "output_type": "stream",
     "text": [
      "Nombre de transactions acceptées : 338030\n",
      "Nombre de transactions refusées  : 1122\n",
      "Taux de transactions refusées sur le total : 0.33 %\n"
     ]
    }
   ],
   "source": [
    "# Vérifions le taux de fraude sur l'échantillon d'apprentissage\n",
    "accept_train = sum(y_train==0)\n",
    "refus_train = sum(y_train==1)\n",
    "\n",
    "print(\"Nombre de transactions acceptées : {}\".format(accept_train))\n",
    "print(\"Nombre de transactions refusées  : {}\".format(refus_train))\n",
    "\n",
    "# Taux de transactions refusées dans l'échantillon d'entrainement\n",
    "tx = refus_train / (accept_train+refus_train) *100\n",
    "print(\"Taux de transactions refusées sur le total : {0:.2f} %\".format(tx))"
   ]
  },
  {
   "cell_type": "markdown",
   "metadata": {},
   "source": [
    "Taux cohérent avec le taux sur la population globale (0,28%)"
   ]
  },
  {
   "cell_type": "markdown",
   "metadata": {},
   "source": [
    "Stratégie (1) : oversampling SMOTE 10/90"
   ]
  },
  {
   "cell_type": "code",
   "execution_count": 47,
   "metadata": {},
   "outputs": [],
   "source": [
    "# Installation package imbalanced-learn\n",
    "#!pip install -U imbalanced-learn"
   ]
  },
  {
   "cell_type": "code",
   "execution_count": 48,
   "metadata": {},
   "outputs": [],
   "source": [
    "# transformation du dataset\n",
    "import imblearn\n",
    "from imblearn.over_sampling import SMOTE\n",
    "oversample = SMOTE(sampling_strategy=10/90, random_state=42)\n",
    "X_train_s1, y_train_s1 = oversample.fit_resample(X_train, y_train)"
   ]
  },
  {
   "cell_type": "code",
   "execution_count": 49,
   "metadata": {},
   "outputs": [
    {
     "name": "stdout",
     "output_type": "stream",
     "text": [
      "Nombre de transactions acceptées : 338030\n",
      "Nombre de transactions refusées  : 37558\n",
      "Taux de transactions refusées sur le total : 10.00 %\n"
     ]
    }
   ],
   "source": [
    "# Vérifions le taux de fraude sur l'échantillon d'apprentissage avec over-sampling\n",
    "accept_train_s1 = sum(y_train_s1==0)\n",
    "refus_train_s1 = sum(y_train_s1==1)\n",
    "\n",
    "print(\"Nombre de transactions acceptées : {}\".format(accept_train_s1))\n",
    "print(\"Nombre de transactions refusées  : {}\".format(refus_train_s1))\n",
    "\n",
    "# Taux de transactions refusées dans l'échantillon d'entrainement\n",
    "tx_s1 = refus_train_s1 / (accept_train_s1+refus_train_s1) *100\n",
    "print(\"Taux de transactions refusées sur le total : {0:.2f} %\".format(tx_s1))"
   ]
  },
  {
   "cell_type": "markdown",
   "metadata": {},
   "source": [
    "Nous avons un premier set d'échantillons avec de l'oversampling. Nous pourrons tester nos algorithmes avec ce premier set."
   ]
  },
  {
   "cell_type": "markdown",
   "metadata": {},
   "source": [
    "Construisons un deuxième set maintenant.\n",
    "\n",
    "Stratégie (2) : oversampling SMOTE 5/95 + undersampling aléatoire 1:9"
   ]
  },
  {
   "cell_type": "code",
   "execution_count": 50,
   "metadata": {},
   "outputs": [],
   "source": [
    "# transform the dataset\n",
    "from imblearn.under_sampling import RandomUnderSampler\n",
    "from imblearn.pipeline import Pipeline\n",
    "oversample = SMOTE(sampling_strategy=5/95, random_state=42)\n",
    "undersample = RandomUnderSampler(sampling_strategy=1/9)\n",
    "\n",
    "steps = [('o', oversample), ('u', undersample)]\n",
    "pipeline = Pipeline(steps=steps)\n",
    "\n",
    "X_train_s2, y_train_s2 = pipeline.fit_resample(X_train, y_train)"
   ]
  },
  {
   "cell_type": "code",
   "execution_count": 51,
   "metadata": {},
   "outputs": [
    {
     "name": "stdout",
     "output_type": "stream",
     "text": [
      "Nombre de transactions acceptées : 160119\n",
      "Nombre de transactions refusées  : 17791\n",
      "Taux de transactions refusées sur le total : 10.00 %\n"
     ]
    }
   ],
   "source": [
    "# Vérifions le taux de fraude sur l'échantillon d'apprentissage avec over-sampling\n",
    "accept_train_s2 = sum(y_train_s2==0)\n",
    "refus_train_s2 = sum(y_train_s2==1)\n",
    "\n",
    "print(\"Nombre de transactions acceptées : {}\".format(accept_train_s2))\n",
    "print(\"Nombre de transactions refusées  : {}\".format(refus_train_s2))\n",
    "\n",
    "# Taux de transactions refusées dans l'échantillon d'entrainement\n",
    "tx_s2 = refus_train_s2 / (accept_train_s2+refus_train_s2) *100\n",
    "print(\"Taux de transactions refusées sur le total : {0:.2f} %\".format(tx_s2))"
   ]
  },
  {
   "cell_type": "markdown",
   "metadata": {},
   "source": [
    "Nous avons un deuxième set d'échantillons avec oversampling et undersampling qui nous donne un ratio transactions refusées/acceptées de 10/90."
   ]
  },
  {
   "cell_type": "markdown",
   "metadata": {},
   "source": [
    "Construisons un troisième set maintenant.\n",
    "\n",
    "Stratégie (3) : oversampling SMOTE 30/70 + undersampling aléatoire 1:1"
   ]
  },
  {
   "cell_type": "code",
   "execution_count": 52,
   "metadata": {},
   "outputs": [],
   "source": [
    "# transform the dataset\n",
    "from imblearn.under_sampling import RandomUnderSampler\n",
    "from imblearn.pipeline import Pipeline\n",
    "oversample = SMOTE(sampling_strategy=30/70, random_state=42)\n",
    "undersample = RandomUnderSampler(sampling_strategy=1)\n",
    "\n",
    "steps = [('o', oversample), ('u', undersample)]\n",
    "pipeline = Pipeline(steps=steps)\n",
    "\n",
    "X_train_s3, y_train_s3 = pipeline.fit_resample(X_train, y_train)"
   ]
  },
  {
   "cell_type": "code",
   "execution_count": 53,
   "metadata": {},
   "outputs": [
    {
     "name": "stdout",
     "output_type": "stream",
     "text": [
      "Nombre de transactions acceptées : 144870\n",
      "Nombre de transactions refusées  : 144870\n",
      "Taux de transactions refusées sur le total : 50.00 %\n"
     ]
    }
   ],
   "source": [
    "# Vérifions le taux de fraude sur l'échantillon d'apprentissage avec over-sampling\n",
    "accept_train_s3 = sum(y_train_s3==0)\n",
    "refus_train_s3 = sum(y_train_s3==1)\n",
    "\n",
    "print(\"Nombre de transactions acceptées : {}\".format(accept_train_s3))\n",
    "print(\"Nombre de transactions refusées  : {}\".format(refus_train_s3))\n",
    "\n",
    "# Taux de transactions refusées dans l'échantillon d'entrainement\n",
    "tx_s3 = refus_train_s3 / (accept_train_s3+refus_train_s3) *100\n",
    "print(\"Taux de transactions refusées sur le total : {0:.2f} %\".format(tx_s3))"
   ]
  },
  {
   "cell_type": "markdown",
   "metadata": {},
   "source": [
    "Nous avons un troisième set d'échantillons avec oversampling et undersampling qui nous donne un ratio transactions refusées/acceptées de 50/50."
   ]
  },
  {
   "cell_type": "markdown",
   "metadata": {},
   "source": [
    "***"
   ]
  },
  {
   "cell_type": "markdown",
   "metadata": {},
   "source": [
    "## 3. TRAITEMENT AVEC ALGORITHMES NON SUPERVISES"
   ]
  },
  {
   "cell_type": "markdown",
   "metadata": {},
   "source": [
    "Nous essayons d'abord une première approche de clustering avec des algorithmes non supervisés (DBSCAN et KMeans) pour voir s'il y a des clusters de transactions frauduleuses qui peuvent se former et qui pourrait être utilisés dans un pré-traitement."
   ]
  },
  {
   "cell_type": "markdown",
   "metadata": {},
   "source": [
    "#### Scaling"
   ]
  },
  {
   "cell_type": "markdown",
   "metadata": {},
   "source": [
    "Les données ont besoin d'être centrées réduites pour pouvoir fonctionner avec des algorithmes qui se basent sur des notions de distance."
   ]
  },
  {
   "cell_type": "code",
   "execution_count": 54,
   "metadata": {},
   "outputs": [],
   "source": [
    "from sklearn.preprocessing import StandardScaler\n",
    "scaler = StandardScaler()\n",
    "X_train_scaled = scaler.fit_transform(X_train, y_train)\n",
    "X_test_scaled = scaler.fit_transform(X_test, y_test)"
   ]
  },
  {
   "cell_type": "markdown",
   "metadata": {},
   "source": [
    "## DBSCAN"
   ]
  },
  {
   "cell_type": "code",
   "execution_count": 55,
   "metadata": {},
   "outputs": [
    {
     "name": "stdout",
     "output_type": "stream",
     "text": [
      "Estimated number of clusters: 227\n",
      "Silhouette Coefficient: -0.150\n",
      "[ 74887 156295    198   5761   2172   1003    230    401    980    370\n",
      "    114     79    361     22     48    143    988     44     23     24\n",
      "     92    207      6     76     14      5     19    109    334    222\n",
      "      6     11    102     36     60     22      5     49    182     11\n",
      "      6     21      5     12      5      5     12     21      6      8\n",
      "     38     21     15      7     29      8     10     13     18      8\n",
      "      6     27      8      8      7      4      4     17      8     33\n",
      "      9      8      6      6     15      4      4      8      5      6\n",
      "     20      5      6     10      5      6     11     12      7      4\n",
      "     10     12      6     16     12     10      6      4     10      9\n",
      "      5     12      5      6     10      7      5     10      5      7\n",
      "      5      5      5      7      7      6     10      6      8      7\n",
      "      4     14      4      9      5      6     15      5      3      6\n",
      "      5      7      8      5      7      5      5      5      7      3\n",
      "      4      6      5     11      6      5     13     10      5      5\n",
      "      5      7      2      5     10      5      5      6      5      5\n",
      "      6      6      6      2      8      5      3      4      6      7\n",
      "      8      5      4      5      6      3      5      4      6      5\n",
      "      5      5      5      3      8      7      5      5      5      5\n",
      "      5      5     10      6      5      4      6      6      5      5\n",
      "      5      5      4      5      5      5      5      3      4      6\n",
      "      4      6      4      2      6      5      4      5      4      5\n",
      "      4      5      3      7      5      4      5]\n",
      "The smallest clusters are clusters:\n",
      "[163 152 213 139 128 207 222 175 166 183 140 195  97  65 202  75 167  66\n",
      " 177  89  76 172 218 225 208 212 220 120 216 122 210  81 159  78 110 165\n",
      " 133 124 127 171 158  84 155 111 135 153 150 149 136 148 145 100 137 142\n",
      " 106 108 112 156 102 226 130 204 187  42 203 188  25 189 190 191 201 200\n",
      "  36 173 194 199  44 205  45 206 224 176 221 219 217 179 180 186 181 215\n",
      " 182 198 214  22 211 117 209 125 141 115 103  60  30 174 168 129 178 162\n",
      "  72  73 161 144 160  48 193 197  82  85 157  40  92  79  96 196 223 131\n",
      " 138 134 185 169 151 113  53  64 105 109 114  88 119  55  77  49 170  63\n",
      " 184  68 164  71  59  62 132 118  99 123  70  98 116  56 147 192 104  83\n",
      "  95 154  90 107  39  86  31 143  94  43 101  87  91  46  57 146  24 121\n",
      " 126  52  74  93  67  58  26  80  41  47  51  13  35  18  19  61  54  69\n",
      "  33  50  17  14  37  34  23  11  20  32  27  10  15  38]\n",
      "Their counts are:\n",
      "[  2   2   2   3   3   3   3   3   3   3   4   4   4   4   4   4   4   4\n",
      "   4   4   4   4   4   4   4   4   4   4   4   4   4   5   5   5   5   5\n",
      "   5   5   5   5   5   5   5   5   5   5   5   5   5   5   5   5   5   5\n",
      "   5   5   5   5   5   5   5   5   5   5   5   5   5   5   5   5   5   5\n",
      "   5   5   5   5   5   5   5   5   5   5   5   5   5   5   5   5   5   5\n",
      "   5   5   6   6   6   6   6   6   6   6   6   6   6   6   6   6   6   6\n",
      "   6   6   6   6   6   6   6   6   6   6   6   6   6   6   6   6   7   7\n",
      "   7   7   7   7   7   7   7   7   7   7   7   7   7   8   8   8   8   8\n",
      "   8   8   8   8   8   8   8   8   9   9   9  10  10  10  10  10  10  10\n",
      "  10  10  10  10  11  11  11  11  12  12  12  12  12  12  13  13  14  14\n",
      "  15  15  15  16  17  18  19  20  21  21  21  22  22  23  24  27  29  33\n",
      "  36  38  44  48  49  60  76  79  92 102 109 114 143 182]\n"
     ]
    }
   ],
   "source": [
    "from sklearn.cluster import DBSCAN\n",
    "from sklearn.metrics import silhouette_score\n",
    "from time import time\n",
    "start = time()\n",
    "\n",
    "model = DBSCAN(n_jobs=-1)\n",
    "model.fit(X_test_scaled)\n",
    "\n",
    "# cluster labels\n",
    "pred_labels = model.labels_\n",
    "# D2compte du nopmbre de clusters\n",
    "n_clusters_ = len(set(pred_labels)) - (1 if -1 in pred_labels else 0)\n",
    "# Visualisation des résultats\n",
    "print('Estimated number of clusters: %d' % n_clusters_)\n",
    "print(\"Silhouette Coefficient: %0.3f\" % silhouette_score(X_test_scaled, pred_labels))\n",
    "# Décompte dans chaque cluster\n",
    "counts = np.bincount(pred_labels[pred_labels>=0])\n",
    "print(counts)\n",
    "# Trier les décomptes de clusters pour ne retenir que les plus petits\n",
    "i = n_clusters_\n",
    "while counts[np.argsort(counts)[:(i-1)]].sum() > 0.01*len(pred_labels) : # on cherche à identifier 1% de fraude \n",
    "    smallest_clusters = np.argsort(counts)[:(i-1)]\n",
    "    i-=1\n",
    "print(\"The smallest clusters are clusters:\")      \n",
    "print(smallest_clusters)\n",
    "# Décomptes des plus petits clusters retenus\n",
    "print(\"Their counts are:\")      \n",
    "print(counts[smallest_clusters])\n",
    "\n",
    "done = time() \n",
    "tps = round(done - start,3)"
   ]
  },
  {
   "cell_type": "code",
   "execution_count": 56,
   "metadata": {},
   "outputs": [
    {
     "name": "stdout",
     "output_type": "stream",
     "text": [
      "Train set size : 339152\n",
      "Test set size : 264143\n",
      "[[260638   2650]\n",
      " [   831     24]]\n",
      "F1-score : 0.014\n",
      "ROC AUC score : 0.509\n",
      "Elapsed time : 2390.26\n"
     ]
    }
   ],
   "source": [
    "y_pred = np.empty([len(pred_labels)])\n",
    "for i in range(len(pred_labels)):\n",
    "    y_pred[i] = 1 if pred_labels[i] in smallest_clusters else 0\n",
    "\n",
    "y_pred = pd.DataFrame(y_pred).astype(int)\n",
    "y_pred.value_counts()\n",
    "\n",
    "# Métriques sur l'échantillon de validation\n",
    "from sklearn.metrics import f1_score, confusion_matrix, roc_auc_score\n",
    "cm = confusion_matrix(y_test,y_pred)\n",
    "f1 = f1_score(y_test,y_pred)\n",
    "auc = roc_auc_score(y_test,y_pred)\n",
    "\n",
    "print(\"Train set size : \"+str(X_train.shape[0]))\n",
    "print(\"Test set size : \"+str(X_test.shape[0]))\n",
    "#print(\"Best estimator : \"+str(model.best_params_))\n",
    "print(cm)\n",
    "print(\"F1-score : {0:.3f}\".format(f1))\n",
    "print(\"ROC AUC score : {0:.3f}\".format(auc))\n",
    "print(\"Elapsed time : \"+str(tps))"
   ]
  },
  {
   "cell_type": "markdown",
   "metadata": {},
   "source": [
    "Les performances ne sont pas à la hauteur de nos attentes avec cet algorithme. Le score de F1 est seulement de 0.014."
   ]
  },
  {
   "cell_type": "markdown",
   "metadata": {},
   "source": [
    "## K-Means"
   ]
  },
  {
   "cell_type": "markdown",
   "metadata": {},
   "source": [
    "Pour l'algorithme des KMeans, nous utilisons sa version MiniBatchKMeans qui se calcule plus rapidement sur des grands ensemble de données. Une fois les clusters créés, nous tentons de voir si les transactions frauduleuses ne se situeraient pas à la périphérie des clusters. Nous prenons l'hypothèse que c'est le cas et testons l'algorithme avec nos données test."
   ]
  },
  {
   "cell_type": "code",
   "execution_count": 57,
   "metadata": {},
   "outputs": [],
   "source": [
    "from sklearn.cluster import MiniBatchKMeans\n",
    "from time import time\n",
    "\n",
    "start = time()\n",
    "model = MiniBatchKMeans(n_clusters=10, random_state=56, verbose=0)\n",
    "model.fit(X_test_scaled)\n",
    "\n",
    "# Prédiction des clusters\n",
    "X_clusters = model.predict(X_test_scaled)\n",
    "# Cluster centroids\n",
    "X_clusters_centers = model.cluster_centers_\n",
    "# Calcul de la distance de chaque point à son centroid\n",
    "dist = [np.linalg.norm(x-y) for x,y in zip(X_test_scaled,X_clusters_centers[X_clusters])]\n",
    "# Creation des prédictions basé sur la distance\n",
    "km_y_pred = np.array(dist)\n",
    "km_y_pred[dist>=np.percentile(dist, 99)] = 1\n",
    "km_y_pred[dist<np.percentile(dist, 99)] = 0\n",
    "\n",
    "done = time() \n",
    "tps = round(done - start,3)"
   ]
  },
  {
   "cell_type": "code",
   "execution_count": 58,
   "metadata": {},
   "outputs": [
    {
     "name": "stdout",
     "output_type": "stream",
     "text": [
      "Train set size : 339152\n",
      "Test set size : 264143\n",
      "[[260716   2572]\n",
      " [   785     70]]\n",
      "F1-score : 0.040\n",
      "ROC AUC score : 0.536\n",
      "Elapsed time : 2.655\n"
     ]
    }
   ],
   "source": [
    "# Métriques sur l'échantillon de validation\n",
    "from sklearn.metrics import f1_score, confusion_matrix, roc_auc_score\n",
    "cm = confusion_matrix(y_test,km_y_pred)\n",
    "f1 = f1_score(y_test,km_y_pred)\n",
    "auc = roc_auc_score(y_test,km_y_pred)\n",
    "\n",
    "print(\"Train set size : \"+str(X_train.shape[0]))\n",
    "print(\"Test set size : \"+str(X_test.shape[0]))\n",
    "#print(\"Best estimator : \"+str(model.best_params_))\n",
    "print(cm)\n",
    "print(\"F1-score : {0:.3f}\".format(f1))\n",
    "print(\"ROC AUC score : {0:.3f}\".format(auc))\n",
    "print(\"Elapsed time : \"+str(tps))"
   ]
  },
  {
   "cell_type": "markdown",
   "metadata": {},
   "source": [
    "Les performances ne sont pas très bonnes avec un F1-score de 0.04."
   ]
  },
  {
   "cell_type": "markdown",
   "metadata": {},
   "source": [
    "***"
   ]
  },
  {
   "cell_type": "markdown",
   "metadata": {},
   "source": [
    "## 4. TRAITEMENT AVEC ALGORITHMES SUPERVISES"
   ]
  },
  {
   "cell_type": "markdown",
   "metadata": {},
   "source": [
    "Nous testons dans un deuxième temps les méthodes suivantes, en étapes successives :\n",
    "- un arbre de décision simple\n",
    "- Random Forest\n",
    "- Gradient tree boosting\n",
    "- Régression logistique\n",
    "- K-nearest neighbors"
   ]
  },
  {
   "cell_type": "markdown",
   "metadata": {},
   "source": [
    "### Arbre de décision simple sans resampling"
   ]
  },
  {
   "cell_type": "code",
   "execution_count": 59,
   "metadata": {},
   "outputs": [],
   "source": [
    "import numpy as np\n",
    "from time import time\n",
    "from sklearn.model_selection import GridSearchCV"
   ]
  },
  {
   "cell_type": "code",
   "execution_count": 60,
   "metadata": {},
   "outputs": [],
   "source": [
    "#Hyperparamètres \n",
    "params = {\"max_depth\": [3,6,9,12, None], \n",
    "            \"min_samples_leaf\": np.arange(1,9,1), \n",
    "            \"criterion\": [\"gini\", \"entropy\"]}"
   ]
  },
  {
   "cell_type": "code",
   "execution_count": 61,
   "metadata": {},
   "outputs": [],
   "source": [
    "# Modélisation\n",
    "from time import time\n",
    "from sklearn.tree import DecisionTreeClassifier\n",
    "from sklearn.model_selection import GridSearchCV\n",
    "from sklearn.metrics import f1_score, confusion_matrix, roc_auc_score, make_scorer"
   ]
  },
  {
   "cell_type": "code",
   "execution_count": 62,
   "metadata": {},
   "outputs": [
    {
     "name": "stdout",
     "output_type": "stream",
     "text": [
      "Train set size : 339152\n",
      "Test set size : 264143\n",
      "Best estimator : {'criterion': 'entropy', 'max_depth': None, 'min_samples_leaf': 1}\n",
      "[[262503    785]\n",
      " [   817     38]]\n",
      "F1-score : 0.045\n",
      "ROC AUC score : 0.521\n",
      "Elapsed time : 483.6\n"
     ]
    }
   ],
   "source": [
    "# Sans resampling\n",
    "ct = DecisionTreeClassifier(class_weight='balanced')\n",
    "start = time()\n",
    "classTree = GridSearchCV(ct, params, cv=5, n_jobs=-1, scoring=make_scorer(f1_score), verbose=0)\n",
    "classTree.fit(X_train,y_train)\n",
    "# Prédiction\n",
    "y_pred_DTC = classTree.best_estimator_.predict(X_test)\n",
    "done = time() \n",
    "tps = round(done - start,1)\n",
    "# Métriques sur l'échantillon de validation\n",
    "cm = confusion_matrix(y_test,y_pred_DTC)\n",
    "f1 = f1_score(y_test,y_pred_DTC)\n",
    "auc = roc_auc_score(y_test,y_pred_DTC)\n",
    "\n",
    "print(\"Train set size : \"+str(X_train.shape[0]))\n",
    "print(\"Test set size : \"+str(X_test.shape[0]))\n",
    "print(\"Best estimator : \"+str(classTree.best_params_))\n",
    "print(cm)\n",
    "print(\"F1-score : {0:.3f}\".format(f1))\n",
    "print(\"ROC AUC score : {0:.3f}\".format(auc))\n",
    "print(\"Elapsed time : \"+str(tps))"
   ]
  },
  {
   "cell_type": "markdown",
   "metadata": {},
   "source": [
    "### RandomForest avec oversampling SMOTE 5/95 + undersampling aléatoire 1:9 (2)"
   ]
  },
  {
   "cell_type": "code",
   "execution_count": 63,
   "metadata": {},
   "outputs": [],
   "source": [
    "#hyperparamètres\n",
    "params_rf_simple = {'max_features': ['sqrt', 0.25, 0.5, 0.75, 1.0], 'n_estimators': [200, 300, 400, 500]}"
   ]
  },
  {
   "cell_type": "code",
   "execution_count": 64,
   "metadata": {},
   "outputs": [
    {
     "ename": "KeyboardInterrupt",
     "evalue": "",
     "output_type": "error",
     "traceback": [
      "\u001b[1;31m---------------------------------------------------------------------------\u001b[0m",
      "\u001b[1;31mKeyboardInterrupt\u001b[0m                         Traceback (most recent call last)",
      "\u001b[1;32m<ipython-input-64-cdd39c8c1f51>\u001b[0m in \u001b[0;36m<module>\u001b[1;34m\u001b[0m\n\u001b[0;32m      6\u001b[0m \u001b[0mstart\u001b[0m \u001b[1;33m=\u001b[0m \u001b[0mtime\u001b[0m\u001b[1;33m(\u001b[0m\u001b[1;33m)\u001b[0m\u001b[1;33m\u001b[0m\u001b[1;33m\u001b[0m\u001b[0m\n\u001b[0;32m      7\u001b[0m \u001b[0mrandom_forest_s2\u001b[0m \u001b[1;33m=\u001b[0m \u001b[0mGridSearchCV\u001b[0m\u001b[1;33m(\u001b[0m\u001b[0mrf_s2\u001b[0m\u001b[1;33m,\u001b[0m \u001b[0mparams_rf_simple\u001b[0m\u001b[1;33m,\u001b[0m \u001b[0mscoring\u001b[0m\u001b[1;33m=\u001b[0m\u001b[0mmake_scorer\u001b[0m\u001b[1;33m(\u001b[0m\u001b[0mf1_score\u001b[0m\u001b[1;33m)\u001b[0m\u001b[1;33m,\u001b[0m \u001b[0mcv\u001b[0m\u001b[1;33m=\u001b[0m\u001b[1;36m5\u001b[0m\u001b[1;33m,\u001b[0m \u001b[0mn_jobs\u001b[0m\u001b[1;33m=\u001b[0m\u001b[1;33m-\u001b[0m\u001b[1;36m1\u001b[0m\u001b[1;33m)\u001b[0m\u001b[1;33m\u001b[0m\u001b[1;33m\u001b[0m\u001b[0m\n\u001b[1;32m----> 8\u001b[1;33m \u001b[0mrandom_forest_s2\u001b[0m\u001b[1;33m.\u001b[0m\u001b[0mfit\u001b[0m\u001b[1;33m(\u001b[0m\u001b[0mX_train_s2\u001b[0m\u001b[1;33m,\u001b[0m\u001b[0my_train_s2\u001b[0m\u001b[1;33m)\u001b[0m\u001b[1;33m\u001b[0m\u001b[1;33m\u001b[0m\u001b[0m\n\u001b[0m\u001b[0;32m      9\u001b[0m \u001b[1;31m# Prédiction\u001b[0m\u001b[1;33m\u001b[0m\u001b[1;33m\u001b[0m\u001b[1;33m\u001b[0m\u001b[0m\n\u001b[0;32m     10\u001b[0m \u001b[0my_pred_bagging_s2\u001b[0m \u001b[1;33m=\u001b[0m \u001b[0mrandom_forest_s2\u001b[0m\u001b[1;33m.\u001b[0m\u001b[0mbest_estimator_\u001b[0m\u001b[1;33m.\u001b[0m\u001b[0mpredict\u001b[0m\u001b[1;33m(\u001b[0m\u001b[0mX_test\u001b[0m\u001b[1;33m)\u001b[0m\u001b[1;33m\u001b[0m\u001b[1;33m\u001b[0m\u001b[0m\n",
      "\u001b[1;32m~\\Anaconda3\\lib\\site-packages\\sklearn\\utils\\validation.py\u001b[0m in \u001b[0;36minner_f\u001b[1;34m(*args, **kwargs)\u001b[0m\n\u001b[0;32m     70\u001b[0m                           FutureWarning)\n\u001b[0;32m     71\u001b[0m         \u001b[0mkwargs\u001b[0m\u001b[1;33m.\u001b[0m\u001b[0mupdate\u001b[0m\u001b[1;33m(\u001b[0m\u001b[1;33m{\u001b[0m\u001b[0mk\u001b[0m\u001b[1;33m:\u001b[0m \u001b[0marg\u001b[0m \u001b[1;32mfor\u001b[0m \u001b[0mk\u001b[0m\u001b[1;33m,\u001b[0m \u001b[0marg\u001b[0m \u001b[1;32min\u001b[0m \u001b[0mzip\u001b[0m\u001b[1;33m(\u001b[0m\u001b[0msig\u001b[0m\u001b[1;33m.\u001b[0m\u001b[0mparameters\u001b[0m\u001b[1;33m,\u001b[0m \u001b[0margs\u001b[0m\u001b[1;33m)\u001b[0m\u001b[1;33m}\u001b[0m\u001b[1;33m)\u001b[0m\u001b[1;33m\u001b[0m\u001b[1;33m\u001b[0m\u001b[0m\n\u001b[1;32m---> 72\u001b[1;33m         \u001b[1;32mreturn\u001b[0m \u001b[0mf\u001b[0m\u001b[1;33m(\u001b[0m\u001b[1;33m**\u001b[0m\u001b[0mkwargs\u001b[0m\u001b[1;33m)\u001b[0m\u001b[1;33m\u001b[0m\u001b[1;33m\u001b[0m\u001b[0m\n\u001b[0m\u001b[0;32m     73\u001b[0m     \u001b[1;32mreturn\u001b[0m \u001b[0minner_f\u001b[0m\u001b[1;33m\u001b[0m\u001b[1;33m\u001b[0m\u001b[0m\n\u001b[0;32m     74\u001b[0m \u001b[1;33m\u001b[0m\u001b[0m\n",
      "\u001b[1;32m~\\Anaconda3\\lib\\site-packages\\sklearn\\model_selection\\_search.py\u001b[0m in \u001b[0;36mfit\u001b[1;34m(self, X, y, groups, **fit_params)\u001b[0m\n\u001b[0;32m    734\u001b[0m                 \u001b[1;32mreturn\u001b[0m \u001b[0mresults\u001b[0m\u001b[1;33m\u001b[0m\u001b[1;33m\u001b[0m\u001b[0m\n\u001b[0;32m    735\u001b[0m \u001b[1;33m\u001b[0m\u001b[0m\n\u001b[1;32m--> 736\u001b[1;33m             \u001b[0mself\u001b[0m\u001b[1;33m.\u001b[0m\u001b[0m_run_search\u001b[0m\u001b[1;33m(\u001b[0m\u001b[0mevaluate_candidates\u001b[0m\u001b[1;33m)\u001b[0m\u001b[1;33m\u001b[0m\u001b[1;33m\u001b[0m\u001b[0m\n\u001b[0m\u001b[0;32m    737\u001b[0m \u001b[1;33m\u001b[0m\u001b[0m\n\u001b[0;32m    738\u001b[0m         \u001b[1;31m# For multi-metric evaluation, store the best_index_, best_params_ and\u001b[0m\u001b[1;33m\u001b[0m\u001b[1;33m\u001b[0m\u001b[1;33m\u001b[0m\u001b[0m\n",
      "\u001b[1;32m~\\Anaconda3\\lib\\site-packages\\sklearn\\model_selection\\_search.py\u001b[0m in \u001b[0;36m_run_search\u001b[1;34m(self, evaluate_candidates)\u001b[0m\n\u001b[0;32m   1186\u001b[0m     \u001b[1;32mdef\u001b[0m \u001b[0m_run_search\u001b[0m\u001b[1;33m(\u001b[0m\u001b[0mself\u001b[0m\u001b[1;33m,\u001b[0m \u001b[0mevaluate_candidates\u001b[0m\u001b[1;33m)\u001b[0m\u001b[1;33m:\u001b[0m\u001b[1;33m\u001b[0m\u001b[1;33m\u001b[0m\u001b[0m\n\u001b[0;32m   1187\u001b[0m         \u001b[1;34m\"\"\"Search all candidates in param_grid\"\"\"\u001b[0m\u001b[1;33m\u001b[0m\u001b[1;33m\u001b[0m\u001b[0m\n\u001b[1;32m-> 1188\u001b[1;33m         \u001b[0mevaluate_candidates\u001b[0m\u001b[1;33m(\u001b[0m\u001b[0mParameterGrid\u001b[0m\u001b[1;33m(\u001b[0m\u001b[0mself\u001b[0m\u001b[1;33m.\u001b[0m\u001b[0mparam_grid\u001b[0m\u001b[1;33m)\u001b[0m\u001b[1;33m)\u001b[0m\u001b[1;33m\u001b[0m\u001b[1;33m\u001b[0m\u001b[0m\n\u001b[0m\u001b[0;32m   1189\u001b[0m \u001b[1;33m\u001b[0m\u001b[0m\n\u001b[0;32m   1190\u001b[0m \u001b[1;33m\u001b[0m\u001b[0m\n",
      "\u001b[1;32m~\\Anaconda3\\lib\\site-packages\\sklearn\\model_selection\\_search.py\u001b[0m in \u001b[0;36mevaluate_candidates\u001b[1;34m(candidate_params)\u001b[0m\n\u001b[0;32m    713\u001b[0m                                \u001b[1;32mfor\u001b[0m \u001b[0mparameters\u001b[0m\u001b[1;33m,\u001b[0m \u001b[1;33m(\u001b[0m\u001b[0mtrain\u001b[0m\u001b[1;33m,\u001b[0m \u001b[0mtest\u001b[0m\u001b[1;33m)\u001b[0m\u001b[1;33m\u001b[0m\u001b[1;33m\u001b[0m\u001b[0m\n\u001b[0;32m    714\u001b[0m                                in product(candidate_params,\n\u001b[1;32m--> 715\u001b[1;33m                                           cv.split(X, y, groups)))\n\u001b[0m\u001b[0;32m    716\u001b[0m \u001b[1;33m\u001b[0m\u001b[0m\n\u001b[0;32m    717\u001b[0m                 \u001b[1;32mif\u001b[0m \u001b[0mlen\u001b[0m\u001b[1;33m(\u001b[0m\u001b[0mout\u001b[0m\u001b[1;33m)\u001b[0m \u001b[1;33m<\u001b[0m \u001b[1;36m1\u001b[0m\u001b[1;33m:\u001b[0m\u001b[1;33m\u001b[0m\u001b[1;33m\u001b[0m\u001b[0m\n",
      "\u001b[1;32m~\\Anaconda3\\lib\\site-packages\\joblib\\parallel.py\u001b[0m in \u001b[0;36m__call__\u001b[1;34m(self, iterable)\u001b[0m\n\u001b[0;32m    932\u001b[0m \u001b[1;33m\u001b[0m\u001b[0m\n\u001b[0;32m    933\u001b[0m             \u001b[1;32mwith\u001b[0m \u001b[0mself\u001b[0m\u001b[1;33m.\u001b[0m\u001b[0m_backend\u001b[0m\u001b[1;33m.\u001b[0m\u001b[0mretrieval_context\u001b[0m\u001b[1;33m(\u001b[0m\u001b[1;33m)\u001b[0m\u001b[1;33m:\u001b[0m\u001b[1;33m\u001b[0m\u001b[1;33m\u001b[0m\u001b[0m\n\u001b[1;32m--> 934\u001b[1;33m                 \u001b[0mself\u001b[0m\u001b[1;33m.\u001b[0m\u001b[0mretrieve\u001b[0m\u001b[1;33m(\u001b[0m\u001b[1;33m)\u001b[0m\u001b[1;33m\u001b[0m\u001b[1;33m\u001b[0m\u001b[0m\n\u001b[0m\u001b[0;32m    935\u001b[0m             \u001b[1;31m# Make sure that we get a last message telling us we are done\u001b[0m\u001b[1;33m\u001b[0m\u001b[1;33m\u001b[0m\u001b[1;33m\u001b[0m\u001b[0m\n\u001b[0;32m    936\u001b[0m             \u001b[0melapsed_time\u001b[0m \u001b[1;33m=\u001b[0m \u001b[0mtime\u001b[0m\u001b[1;33m.\u001b[0m\u001b[0mtime\u001b[0m\u001b[1;33m(\u001b[0m\u001b[1;33m)\u001b[0m \u001b[1;33m-\u001b[0m \u001b[0mself\u001b[0m\u001b[1;33m.\u001b[0m\u001b[0m_start_time\u001b[0m\u001b[1;33m\u001b[0m\u001b[1;33m\u001b[0m\u001b[0m\n",
      "\u001b[1;32m~\\Anaconda3\\lib\\site-packages\\joblib\\parallel.py\u001b[0m in \u001b[0;36mretrieve\u001b[1;34m(self)\u001b[0m\n\u001b[0;32m    831\u001b[0m             \u001b[1;32mtry\u001b[0m\u001b[1;33m:\u001b[0m\u001b[1;33m\u001b[0m\u001b[1;33m\u001b[0m\u001b[0m\n\u001b[0;32m    832\u001b[0m                 \u001b[1;32mif\u001b[0m \u001b[0mgetattr\u001b[0m\u001b[1;33m(\u001b[0m\u001b[0mself\u001b[0m\u001b[1;33m.\u001b[0m\u001b[0m_backend\u001b[0m\u001b[1;33m,\u001b[0m \u001b[1;34m'supports_timeout'\u001b[0m\u001b[1;33m,\u001b[0m \u001b[1;32mFalse\u001b[0m\u001b[1;33m)\u001b[0m\u001b[1;33m:\u001b[0m\u001b[1;33m\u001b[0m\u001b[1;33m\u001b[0m\u001b[0m\n\u001b[1;32m--> 833\u001b[1;33m                     \u001b[0mself\u001b[0m\u001b[1;33m.\u001b[0m\u001b[0m_output\u001b[0m\u001b[1;33m.\u001b[0m\u001b[0mextend\u001b[0m\u001b[1;33m(\u001b[0m\u001b[0mjob\u001b[0m\u001b[1;33m.\u001b[0m\u001b[0mget\u001b[0m\u001b[1;33m(\u001b[0m\u001b[0mtimeout\u001b[0m\u001b[1;33m=\u001b[0m\u001b[0mself\u001b[0m\u001b[1;33m.\u001b[0m\u001b[0mtimeout\u001b[0m\u001b[1;33m)\u001b[0m\u001b[1;33m)\u001b[0m\u001b[1;33m\u001b[0m\u001b[1;33m\u001b[0m\u001b[0m\n\u001b[0m\u001b[0;32m    834\u001b[0m                 \u001b[1;32melse\u001b[0m\u001b[1;33m:\u001b[0m\u001b[1;33m\u001b[0m\u001b[1;33m\u001b[0m\u001b[0m\n\u001b[0;32m    835\u001b[0m                     \u001b[0mself\u001b[0m\u001b[1;33m.\u001b[0m\u001b[0m_output\u001b[0m\u001b[1;33m.\u001b[0m\u001b[0mextend\u001b[0m\u001b[1;33m(\u001b[0m\u001b[0mjob\u001b[0m\u001b[1;33m.\u001b[0m\u001b[0mget\u001b[0m\u001b[1;33m(\u001b[0m\u001b[1;33m)\u001b[0m\u001b[1;33m)\u001b[0m\u001b[1;33m\u001b[0m\u001b[1;33m\u001b[0m\u001b[0m\n",
      "\u001b[1;32m~\\Anaconda3\\lib\\site-packages\\joblib\\_parallel_backends.py\u001b[0m in \u001b[0;36mwrap_future_result\u001b[1;34m(future, timeout)\u001b[0m\n\u001b[0;32m    519\u001b[0m         AsyncResults.get from multiprocessing.\"\"\"\n\u001b[0;32m    520\u001b[0m         \u001b[1;32mtry\u001b[0m\u001b[1;33m:\u001b[0m\u001b[1;33m\u001b[0m\u001b[1;33m\u001b[0m\u001b[0m\n\u001b[1;32m--> 521\u001b[1;33m             \u001b[1;32mreturn\u001b[0m \u001b[0mfuture\u001b[0m\u001b[1;33m.\u001b[0m\u001b[0mresult\u001b[0m\u001b[1;33m(\u001b[0m\u001b[0mtimeout\u001b[0m\u001b[1;33m=\u001b[0m\u001b[0mtimeout\u001b[0m\u001b[1;33m)\u001b[0m\u001b[1;33m\u001b[0m\u001b[1;33m\u001b[0m\u001b[0m\n\u001b[0m\u001b[0;32m    522\u001b[0m         \u001b[1;32mexcept\u001b[0m \u001b[0mLokyTimeoutError\u001b[0m\u001b[1;33m:\u001b[0m\u001b[1;33m\u001b[0m\u001b[1;33m\u001b[0m\u001b[0m\n\u001b[0;32m    523\u001b[0m             \u001b[1;32mraise\u001b[0m \u001b[0mTimeoutError\u001b[0m\u001b[1;33m(\u001b[0m\u001b[1;33m)\u001b[0m\u001b[1;33m\u001b[0m\u001b[1;33m\u001b[0m\u001b[0m\n",
      "\u001b[1;32m~\\Anaconda3\\lib\\concurrent\\futures\\_base.py\u001b[0m in \u001b[0;36mresult\u001b[1;34m(self, timeout)\u001b[0m\n\u001b[0;32m    425\u001b[0m                 \u001b[1;32mreturn\u001b[0m \u001b[0mself\u001b[0m\u001b[1;33m.\u001b[0m\u001b[0m__get_result\u001b[0m\u001b[1;33m(\u001b[0m\u001b[1;33m)\u001b[0m\u001b[1;33m\u001b[0m\u001b[1;33m\u001b[0m\u001b[0m\n\u001b[0;32m    426\u001b[0m \u001b[1;33m\u001b[0m\u001b[0m\n\u001b[1;32m--> 427\u001b[1;33m             \u001b[0mself\u001b[0m\u001b[1;33m.\u001b[0m\u001b[0m_condition\u001b[0m\u001b[1;33m.\u001b[0m\u001b[0mwait\u001b[0m\u001b[1;33m(\u001b[0m\u001b[0mtimeout\u001b[0m\u001b[1;33m)\u001b[0m\u001b[1;33m\u001b[0m\u001b[1;33m\u001b[0m\u001b[0m\n\u001b[0m\u001b[0;32m    428\u001b[0m \u001b[1;33m\u001b[0m\u001b[0m\n\u001b[0;32m    429\u001b[0m             \u001b[1;32mif\u001b[0m \u001b[0mself\u001b[0m\u001b[1;33m.\u001b[0m\u001b[0m_state\u001b[0m \u001b[1;32min\u001b[0m \u001b[1;33m[\u001b[0m\u001b[0mCANCELLED\u001b[0m\u001b[1;33m,\u001b[0m \u001b[0mCANCELLED_AND_NOTIFIED\u001b[0m\u001b[1;33m]\u001b[0m\u001b[1;33m:\u001b[0m\u001b[1;33m\u001b[0m\u001b[1;33m\u001b[0m\u001b[0m\n",
      "\u001b[1;32m~\\Anaconda3\\lib\\threading.py\u001b[0m in \u001b[0;36mwait\u001b[1;34m(self, timeout)\u001b[0m\n\u001b[0;32m    294\u001b[0m         \u001b[1;32mtry\u001b[0m\u001b[1;33m:\u001b[0m    \u001b[1;31m# restore state no matter what (e.g., KeyboardInterrupt)\u001b[0m\u001b[1;33m\u001b[0m\u001b[1;33m\u001b[0m\u001b[0m\n\u001b[0;32m    295\u001b[0m             \u001b[1;32mif\u001b[0m \u001b[0mtimeout\u001b[0m \u001b[1;32mis\u001b[0m \u001b[1;32mNone\u001b[0m\u001b[1;33m:\u001b[0m\u001b[1;33m\u001b[0m\u001b[1;33m\u001b[0m\u001b[0m\n\u001b[1;32m--> 296\u001b[1;33m                 \u001b[0mwaiter\u001b[0m\u001b[1;33m.\u001b[0m\u001b[0macquire\u001b[0m\u001b[1;33m(\u001b[0m\u001b[1;33m)\u001b[0m\u001b[1;33m\u001b[0m\u001b[1;33m\u001b[0m\u001b[0m\n\u001b[0m\u001b[0;32m    297\u001b[0m                 \u001b[0mgotit\u001b[0m \u001b[1;33m=\u001b[0m \u001b[1;32mTrue\u001b[0m\u001b[1;33m\u001b[0m\u001b[1;33m\u001b[0m\u001b[0m\n\u001b[0;32m    298\u001b[0m             \u001b[1;32melse\u001b[0m\u001b[1;33m:\u001b[0m\u001b[1;33m\u001b[0m\u001b[1;33m\u001b[0m\u001b[0m\n",
      "\u001b[1;31mKeyboardInterrupt\u001b[0m: "
     ]
    }
   ],
   "source": [
    "from sklearn.ensemble import RandomForestClassifier\n",
    "\n",
    "# Avec oversampling + undersampling\n",
    "rf_s2 = RandomForestClassifier()\n",
    "# cv = [(slice(None), slice(None))]\n",
    "start = time()\n",
    "random_forest_s2 = GridSearchCV(rf_s2, params_rf_simple, scoring=make_scorer(f1_score), cv=5, n_jobs=-1)\n",
    "random_forest_s2.fit(X_train_s2,y_train_s2)\n",
    "# Prédiction\n",
    "y_pred_bagging_s2 = random_forest_s2.best_estimator_.predict(X_test)\n",
    "done = time() \n",
    "tps = round(done - start,3)\n",
    "# Métriques sur l'échantillon de validation s2\n",
    "cm_s2 = confusion_matrix(y_test,y_pred_bagging_s2)\n",
    "f1_s2 = f1_score(y_test,y_pred_bagging_s2)\n",
    "auc_s2 = roc_auc_score(y_test,y_pred_bagging_s2)\n",
    "\n",
    "print(\"Train set size : \"+str(X_train_s2.shape[0]))\n",
    "print(\"Test set size : \"+str(X_test.shape[0]))\n",
    "print(\"Best estimator : \"+str(random_forest_s2.best_params_))\n",
    "print(cm_s2)\n",
    "print(\"F1-score : {0:.3f}\".format(f1_s2))\n",
    "print(\"ROC AUC score : {0:.3f}\".format(auc_s2))\n",
    "print(\"Elapsed time : \"+str(tps))"
   ]
  },
  {
   "cell_type": "markdown",
   "metadata": {},
   "source": [
    "### Gradient Boosting avec oversampling SMOTE 30/70 + undersampling aléatoire 1:1 (3)"
   ]
  },
  {
   "cell_type": "code",
   "execution_count": null,
   "metadata": {},
   "outputs": [],
   "source": [
    "#Hyperparamètres \n",
    "params_gb_simple={'n_estimators': [50,100], 'max_depth':[4,8], 'learning_rate':[0.25,0.1,0.05]} "
   ]
  },
  {
   "cell_type": "code",
   "execution_count": null,
   "metadata": {},
   "outputs": [],
   "source": [
    "# Avec oversampling + undersampling\n",
    "gb_s3 = GradientBoostingClassifier()\n",
    "start = time()\n",
    "boosting_s3 = GridSearchCV(gb_s3, params_gb_simple, cv=5, n_jobs=-1, scoring=make_scorer(f1_score))\n",
    "boosting_s3.fit(X_train_s3,y_train_s3)\n",
    "# Prédiction\n",
    "y_pred_boosting_s3 = boosting_s3.best_estimator_.predict(X_test)\n",
    "done = time() \n",
    "tps = round(done - start,3)\n",
    "# Métriques sur l'échantillon de validation s2\n",
    "cm_s3 = confusion_matrix(y_test,y_pred_boosting_s3)\n",
    "f1_s3 = f1_score(y_test,y_pred_boosting_s3)\n",
    "auc_s3 = roc_auc_score(y_test,y_pred_boosting_s3)\n",
    "\n",
    "print(\"Train set size : \"+str(X_train_s3.shape[0]))\n",
    "print(\"Test set size : \"+str(X_test.shape[0]))\n",
    "print(\"Best estimator : \"+str(boosting_s3.best_params_))\n",
    "print(cm_s3)\n",
    "print(\"F1-score : {0:.3f}\".format(f1_s3))\n",
    "print(\"ROC AUC score : {0:.3f}\".format(auc_s3))\n",
    "print(\"Elapsed time : \"+str(tps))"
   ]
  },
  {
   "cell_type": "markdown",
   "metadata": {},
   "source": [
    "### Logistic Regression sans resampling"
   ]
  },
  {
   "cell_type": "markdown",
   "metadata": {},
   "source": [
    "#### Scaling"
   ]
  },
  {
   "cell_type": "code",
   "execution_count": null,
   "metadata": {},
   "outputs": [],
   "source": [
    "from sklearn.preprocessing import StandardScaler\n",
    "scaler = StandardScaler()\n",
    "X_train_s1_scaled = scaler.fit_transform(X_train_s1, y_train)\n",
    "X_train_s2_scaled = scaler.fit_transform(X_train_s2, y_train)\n",
    "X_train_s3_scaled = scaler.fit_transform(X_train_s3, y_train)"
   ]
  },
  {
   "cell_type": "code",
   "execution_count": null,
   "metadata": {},
   "outputs": [],
   "source": [
    "#Hyperparamètres \n",
    "params_lr_large = {'class_weight':[None,'balanced'], 'penalty':['l2', None], 'C':[0.001,0.01,0.1,1,10]}"
   ]
  },
  {
   "cell_type": "code",
   "execution_count": null,
   "metadata": {},
   "outputs": [],
   "source": [
    "from sklearn.linear_model import LogisticRegression\n",
    "from sklearn.model_selection import GridSearchCV\n",
    "from sklearn.metrics import f1_score, confusion_matrix, roc_auc_score, make_scorer\n",
    "from time import time\n",
    "\n",
    "# Sans resampling\n",
    "model = LogisticRegression()\n",
    "start = time()\n",
    "model = GridSearchCV(model, params_lr_large, cv=5, n_jobs=-1, scoring=make_scorer(f1_score), verbose=0)\n",
    "model.fit(X_train_scaled,y_train)\n",
    "\n",
    "# Prédiction\n",
    "y_pred = model.best_estimator_.predict(X_test)\n",
    "done = time() \n",
    "tps = round(done - start,3)\n",
    "\n",
    "# Métriques sur l'échantillon de validation\n",
    "from sklearn.metrics import f1_score, confusion_matrix, roc_auc_score\n",
    "cm = confusion_matrix(y_test,y_pred)\n",
    "f1 = f1_score(y_test,y_pred)\n",
    "auc = roc_auc_score(y_test,y_pred)\n",
    "\n",
    "print(\"Train set size : \"+str(X_train.shape[0]))\n",
    "print(\"Test set size : \"+str(X_test.shape[0]))\n",
    "print(\"Best estimator : \"+str(model.best_params_))\n",
    "print(cm)\n",
    "print(\"F1-score : {0:.3f}\".format(f1))\n",
    "print(\"ROC AUC score : {0:.3f}\".format(auc))\n",
    "print(\"Elapsed time : \"+str(tps))"
   ]
  },
  {
   "cell_type": "markdown",
   "metadata": {},
   "source": [
    "### KNN avec oversampling SMOTE 30/70 + undersampling aléatoire 1:1 (3)"
   ]
  },
  {
   "cell_type": "code",
   "execution_count": null,
   "metadata": {},
   "outputs": [],
   "source": [
    "#Hyperparamètres \n",
    "params_knn={'n_neighbors':[5,9,13,25]} "
   ]
  },
  {
   "cell_type": "code",
   "execution_count": null,
   "metadata": {},
   "outputs": [],
   "source": [
    "from sklearn.neighbors import KNeighborsClassifier\n",
    "\n",
    "model = KNeighborsClassifier()\n",
    "start = time()\n",
    "model = GridSearchCV(model, params_knn, cv=5, n_jobs=-1, scoring=make_scorer(f1_score), verbose=0)\n",
    "model.fit(X_train_s3_scaled,y_train_s3)\n",
    "\n",
    "# Prédiction\n",
    "y_pred = model.best_estimator_.predict(X_test)\n",
    "done = time() \n",
    "tps = round(done - start,3)\n",
    "\n",
    "# Métriques sur l'échantillon de validation\n",
    "from sklearn.metrics import f1_score, confusion_matrix, roc_auc_score\n",
    "cm = confusion_matrix(y_test,y_pred)\n",
    "f1 = f1_score(y_test,y_pred)\n",
    "auc = roc_auc_score(y_test,y_pred)\n",
    "\n",
    "print(\"Train set size : \"+str(X_train.shape[0]))\n",
    "print(\"Test set size : \"+str(X_test.shape[0]))\n",
    "print(\"Best estimator : \"+str(model.best_params_))\n",
    "print(cm)\n",
    "print(\"F1-score : {0:.3f}\".format(f1))\n",
    "print(\"ROC AUC score : {0:.3f}\".format(auc))\n",
    "print(\"Elapsed time : \"+str(tps))"
   ]
  },
  {
   "cell_type": "markdown",
   "metadata": {},
   "source": [
    "### VOTING CLASSIFIER sans resampling"
   ]
  },
  {
   "cell_type": "code",
   "execution_count": null,
   "metadata": {},
   "outputs": [],
   "source": [
    "from sklearn.ensemble import VotingClassifier\n",
    "from time import time\n",
    "from sklearn.neighbors import KNeighborsClassifier\n",
    "from sklearn.linear_model import LogisticRegression\n",
    "from sklearn.tree import DecisionTreeClassifier\n",
    "\n",
    "start = time()\n",
    "\n",
    "clf1 = LogisticRegression(C=10, class_weight=None, penalty='l2',random_state=1)\n",
    "clf2 = GradientBoostingClassifier(learning_rate=0.25, max_depth=8, n_estimators=100)\n",
    "clf3 = DecisionTreeClassifier(criterion='gini', max_depth=None, min_samples_leaf=1,random_state=1)\n",
    "\n",
    "#ensemble_model = VotingClassifier(estimators=[('lr', clf1),('knn', clf2), ('dt', clf3)], voting='hard')\n",
    "ensemble_model = VotingClassifier(estimators=[('lr', clf1), ('gb', clf2),('dt', clf3)], voting='soft', weights=[1,1,1])\n",
    "ensemble_model.fit(X_train_scaled, y_train)\n",
    "\n",
    "y_pred = ensemble_model.predict(X_test)\n",
    "done = time() \n",
    "tps = round(done - start,3)\n",
    "\n",
    "# Métriques sur l'échantillon de validation\n",
    "from sklearn.metrics import f1_score, confusion_matrix, roc_auc_score\n",
    "cm = confusion_matrix(y_test,y_pred)\n",
    "f1 = f1_score(y_test,y_pred)\n",
    "auc = roc_auc_score(y_test,y_pred)\n",
    "\n",
    "print(\"Train set size : \"+str(X_train.shape[0]))\n",
    "print(\"Test set size : \"+str(X_test.shape[0]))\n",
    "print(cm)\n",
    "print(\"F1-score : {0:.3f}\".format(f1))\n",
    "print(\"ROC AUC score : {0:.3f}\".format(auc))\n",
    "print(\"Elapsed time : \"+str(tps))"
   ]
  },
  {
   "cell_type": "code",
   "execution_count": null,
   "metadata": {},
   "outputs": [],
   "source": []
  }
 ],
 "metadata": {
  "kernelspec": {
   "display_name": "Python 3",
   "language": "python",
   "name": "python3"
  },
  "language_info": {
   "codemirror_mode": {
    "name": "ipython",
    "version": 3
   },
   "file_extension": ".py",
   "mimetype": "text/x-python",
   "name": "python",
   "nbconvert_exporter": "python",
   "pygments_lexer": "ipython3",
   "version": "3.7.3"
  }
 },
 "nbformat": 4,
 "nbformat_minor": 4
}
